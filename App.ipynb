{
 "cells": [
  {
   "cell_type": "markdown",
   "id": "be07819d",
   "metadata": {},
   "source": [
    "# Top Trendings do Twitter\n",
    "**Objetivos:** Desenvolver uma aplicação para monitorar o top trending e seu devido volume na rede social com o passar do tempo.\n",
    "\n",
    "## Funcionalidades\n",
    "**Requisitos funcionais obrigatorios**:\n",
    "- [x] Utilizar a api do twitter para consumir o top trending e seu devido volume.\n",
    "- [x] Armazenar o histórico das trendings em um banco de dados noSQL.\n",
    "- [ ] Utilizar alguma biblioteca gráfica para exibir os dados.\n",
    "\n",
    "**Requisito funcional opcional**:\n",
    "- [ ] Utilizar IA para análise de sentimento dos tweets referentes aos top trendings"
   ]
  },
  {
   "cell_type": "markdown",
   "id": "766bac6f",
   "metadata": {},
   "source": [
    "### Instação das Bibliotecas\n",
    "Para instalar as bibliotecas, será usado um arquivo de texto com todas as dependências necessarias para este projeto funcionar."
   ]
  },
  {
   "cell_type": "code",
   "execution_count": null,
   "id": "3422f213",
   "metadata": {},
   "outputs": [],
   "source": [
    "! python -m pip install -r requirements.txt"
   ]
  },
  {
   "cell_type": "markdown",
   "id": "14520900",
   "metadata": {},
   "source": [
    "### Imports"
   ]
  },
  {
   "cell_type": "code",
   "execution_count": 1,
   "id": "28adb29c",
   "metadata": {},
   "outputs": [],
   "source": [
    "import re\n",
    "import json\n",
    "import pprint\n",
    "\n",
    "import requests\n",
    "import pandas as pd\n",
    "import numpy as np\n",
    "import matplotlib.pyplot as plt\n",
    "from bson import json_util\n",
    "\n",
    "from modules import mongoDb\n",
    "from modules import fileToDic as fd\n",
    "from modules import apiKeys as api\n",
    "from modules import mongoEnv"
   ]
  },
  {
   "cell_type": "markdown",
   "id": "2846c4ef",
   "metadata": {},
   "source": [
    "## Funcionalidade 1: Consome o top trending e seu devido volume.\n",
    "\n",
    "1. Abrir o arquivo `WOEID.txt` para poder ler os paises e seu identificadores.\n",
    "2. Usando a função `dictionary` que esta no arquivo `fileToDic`, o arquivo com os paises e seus respectivos valores serão convertidos em dicionario.\n",
    "3. Usando o dicionario `key` que está no arquivo `apiKeys`, o valor do `BEARER_TOKEN` no arquivo `.env` será atribuido a varivel `bearer_token`. O Bearer Token será usado na autenticação da url que retorna os *trends* de um determinado pais.\n",
    "4. Para buscar o trending de um determinado pais iremos usar a url: https://api.twitter.com/1.1/trends/place.json\n",
    "5. Entretanto, devemos passar o parametro que no caso é o id de um pais.\n",
    "\n",
    "Fonte: https://developer.twitter.com/en/docs/twitter-api/v1/trends/trends-for-location/api-reference/get-trends-place"
   ]
  },
  {
   "cell_type": "code",
   "execution_count": 2,
   "id": "fba323d1",
   "metadata": {},
   "outputs": [],
   "source": [
    "countries = {}\n",
    "file = open(\"input/WOEID.txt\")\n",
    "countries = fd.dictionary(file, countries)\n",
    "\n",
    "bearer_token = api.key['bearer_token']\n",
    "\n",
    "search_url = \"https://api.twitter.com/1.1/trends/place.json\"\n",
    "\n",
    "query_params = {'id': countries['BRAZIL'], 'exclude': 'hashtags'}"
   ]
  },
  {
   "cell_type": "markdown",
   "id": "830cb153",
   "metadata": {},
   "source": [
    "Está função usa o *bearer token* para poder realizar a autenticação, por mais que não irá logar no **twitter** o *bearer token* \"representa uma autorização do Server emitida para o client. Por sua vez, o client deve possuir mecanismos próprios para identificar e validar o Token\".\n",
    "\n",
    "Fonte: [Bruno Brito](https://www.brunobrito.net.br/jwt-cookies-oauth-bearer/)."
   ]
  },
  {
   "cell_type": "code",
   "execution_count": 3,
   "id": "30485663",
   "metadata": {},
   "outputs": [],
   "source": [
    "def bearer_oauth(r):\n",
    "  '''\n",
    "  Autenticação usando o bearer token\n",
    "  '''\n",
    "  r.headers[\"Authorization\"] = f\"Bearer {bearer_token}\"\n",
    "  r.headers[\"User-Agent\"] = \"v2RecentSearchPython\"\n",
    "\n",
    "  return r"
   ]
  },
  {
   "cell_type": "markdown",
   "id": "682c2a95",
   "metadata": {},
   "source": [
    "Usando a url e o parametros necessario, a função abaixo retorna um *response* no formato **json**. Veja onde a função `bearer_oauth` será usada.\n",
    "\n",
    "Fonte: https://github.com/twitterdev/Twitter-API-v2-sample-code/blob/main/Recent-Search/recent_search.py"
   ]
  },
  {
   "cell_type": "code",
   "execution_count": 4,
   "id": "a78b90da",
   "metadata": {},
   "outputs": [],
   "source": [
    "def connect_to_endpoint(url, params):\n",
    "  '''\n",
    "  Se conecta a url dada com o parametros dado.\n",
    "  Consultar a documentação para saber o parametros nessario na pesquisa\n",
    "  '''\n",
    "  response = requests.get(url, auth=bearer_oauth, params=params)\n",
    "  print(response.status_code)\n",
    "  if response.status_code != 200:\n",
    "    raise Exception(response.status_code, response.text)\n",
    "        \n",
    "  return response.json()"
   ]
  },
  {
   "cell_type": "markdown",
   "id": "e79bdb1e",
   "metadata": {},
   "source": [
    "## Funcionalidade 2: Persistir os dados\n",
    "\n",
    "1. criar conexão com o banco, neste projeto usando o MongoDb\n",
    "2. Criar um banco chamado `tweets_db`\n",
    "3. Criar uma coleção chamada `top_trends`\n",
    "4. Inserir a *response* nesta coleção\n",
    "\n",
    "Fonte: https://pymongo.readthedocs.io/en/stable/tutorial.html"
   ]
  },
  {
   "cell_type": "markdown",
   "id": "8f933a60",
   "metadata": {},
   "source": [
    "### Variaveis de Ambiente"
   ]
  },
  {
   "cell_type": "code",
   "execution_count": 5,
   "id": "5d270417",
   "metadata": {},
   "outputs": [],
   "source": [
    "username = mongoEnv.key_mongo['mongo_username']\n",
    "pwd = mongoEnv.key_mongo['mongo_password']"
   ]
  },
  {
   "cell_type": "markdown",
   "id": "3b340a23",
   "metadata": {},
   "source": [
    "### Conexão com banco de dados"
   ]
  },
  {
   "cell_type": "code",
   "execution_count": 6,
   "id": "a7c84d03",
   "metadata": {},
   "outputs": [],
   "source": [
    "mongo_client = mongoDb.connect_to_mongo(username, pwd, '27017')"
   ]
  },
  {
   "cell_type": "markdown",
   "id": "4b72bc5c",
   "metadata": {},
   "source": [
    "### Criação do Banco de Dados e a Coleção"
   ]
  },
  {
   "cell_type": "code",
   "execution_count": 7,
   "id": "7162ee30",
   "metadata": {},
   "outputs": [],
   "source": [
    "database = mongoDb.create_db(mongo_client, 'tweets_db')\n",
    "collection = database['top_trends']"
   ]
  },
  {
   "cell_type": "markdown",
   "id": "d4545311",
   "metadata": {},
   "source": [
    "### Conectando ao Endpoint da Twitter API"
   ]
  },
  {
   "cell_type": "code",
   "execution_count": 8,
   "id": "443b8c97",
   "metadata": {},
   "outputs": [
    {
     "name": "stdout",
     "output_type": "stream",
     "text": [
      "200\n"
     ]
    }
   ],
   "source": [
    "top_trends = connect_to_endpoint(search_url, query_params)"
   ]
  },
  {
   "cell_type": "markdown",
   "id": "0a291962",
   "metadata": {},
   "source": [
    "### Persistindo os dados encontrado no Json\n",
    "Aqui eu decidi fazer um for para inserir um de cada vez, porém eu observei que só foi criado um unico documento, sendo que os top trendings é uma lista com os 50 top trendings da data atual."
   ]
  },
  {
   "cell_type": "code",
   "execution_count": 9,
   "id": "89985e3f",
   "metadata": {},
   "outputs": [],
   "source": [
    "for trend in top_trends:\n",
    "    trend_id = collection.insert_one(trend).inserted_id"
   ]
  },
  {
   "cell_type": "markdown",
   "id": "0ad353a8",
   "metadata": {},
   "source": [
    "### Procurando e Printando o primeiro documento"
   ]
  },
  {
   "cell_type": "code",
   "execution_count": 11,
   "id": "1a280c00",
   "metadata": {},
   "outputs": [
    {
     "name": "stdout",
     "output_type": "stream",
     "text": [
      "{'_id': ObjectId('6147193c5b64b01e186febf6'),\n",
      " 'as_of': '2021-09-19T11:04:28Z',\n",
      " 'created_at': '2021-09-15T02:00:22Z',\n",
      " 'locations': [{'name': 'Brazil', 'woeid': 23424768}],\n",
      " 'trends': [{'name': '#Calamidade',\n",
      "             'promoted_content': None,\n",
      "             'query': '%23Calamidade',\n",
      "             'tweet_volume': 286336,\n",
      "             'url': 'http://twitter.com/search?q=%23Calamidade'},\n",
      "            {'name': 'Otis',\n",
      "             'promoted_content': None,\n",
      "             'query': 'Otis',\n",
      "             'tweet_volume': 59009,\n",
      "             'url': 'http://twitter.com/search?q=Otis'},\n",
      "            {'name': 'Paulo Freire',\n",
      "             'promoted_content': None,\n",
      "             'query': '%22Paulo+Freire%22',\n",
      "             'tweet_volume': 43627,\n",
      "             'url': 'http://twitter.com/search?q=%22Paulo+Freire%22'},\n",
      "            {'name': 'juliette no altas horas',\n",
      "             'promoted_content': None,\n",
      "             'query': '%22juliette+no+altas+horas%22',\n",
      "             'tweet_volume': 84069,\n",
      "             'url': 'http://twitter.com/search?q=%22juliette+no+altas+horas%22'},\n",
      "            {'name': 'Borel',\n",
      "             'promoted_content': None,\n",
      "             'query': 'Borel',\n",
      "             'tweet_volume': 170407,\n",
      "             'url': 'http://twitter.com/search?q=Borel'},\n",
      "            {'name': 'Maeve',\n",
      "             'promoted_content': None,\n",
      "             'query': 'Maeve',\n",
      "             'tweet_volume': 35146,\n",
      "             'url': 'http://twitter.com/search?q=Maeve'},\n",
      "            {'name': 'Kian',\n",
      "             'promoted_content': None,\n",
      "             'query': 'Kian',\n",
      "             'tweet_volume': 33860,\n",
      "             'url': 'http://twitter.com/search?q=Kian'},\n",
      "            {'name': 'Eric',\n",
      "             'promoted_content': None,\n",
      "             'query': 'Eric',\n",
      "             'tweet_volume': 94529,\n",
      "             'url': 'http://twitter.com/search?q=Eric'},\n",
      "            {'name': 'Dynho',\n",
      "             'promoted_content': None,\n",
      "             'query': 'Dynho',\n",
      "             'tweet_volume': 60318,\n",
      "             'url': 'http://twitter.com/search?q=Dynho'},\n",
      "            {'name': '#ColdplayXBTSisComing',\n",
      "             'promoted_content': None,\n",
      "             'query': '%23ColdplayXBTSisComing',\n",
      "             'tweet_volume': 34881,\n",
      "             'url': 'http://twitter.com/search?q=%23ColdplayXBTSisComing'},\n",
      "            {'name': 'Arana',\n",
      "             'promoted_content': None,\n",
      "             'query': 'Arana',\n",
      "             'tweet_volume': 19928,\n",
      "             'url': 'http://twitter.com/search?q=Arana'},\n",
      "            {'name': '#BORUTO',\n",
      "             'promoted_content': None,\n",
      "             'query': '%23BORUTO',\n",
      "             'tweet_volume': 12562,\n",
      "             'url': 'http://twitter.com/search?q=%23BORUTO'},\n",
      "            {'name': '#MyUniverseIsComing',\n",
      "             'promoted_content': None,\n",
      "             'query': '%23MyUniverseIsComing',\n",
      "             'tweet_volume': 34196,\n",
      "             'url': 'http://twitter.com/search?q=%23MyUniverseIsComing'},\n",
      "            {'name': 'Nego',\n",
      "             'promoted_content': None,\n",
      "             'query': 'Nego',\n",
      "             'tweet_volume': 209488,\n",
      "             'url': 'http://twitter.com/search?q=Nego'},\n",
      "            {'name': 'o diabo vem hoje',\n",
      "             'promoted_content': None,\n",
      "             'query': '%22o+diabo+vem+hoje%22',\n",
      "             'tweet_volume': 12935,\n",
      "             'url': 'http://twitter.com/search?q=%22o+diabo+vem+hoje%22'},\n",
      "            {'name': '#BatmanDay',\n",
      "             'promoted_content': None,\n",
      "             'query': '%23BatmanDay',\n",
      "             'tweet_volume': 171169,\n",
      "             'url': 'http://twitter.com/search?q=%23BatmanDay'},\n",
      "            {'name': 'ASSÉDIO NA RECORD',\n",
      "             'promoted_content': None,\n",
      "             'query': '%22ASS%C3%89DIO+NA+RECORD%22',\n",
      "             'tweet_volume': 125065,\n",
      "             'url': 'http://twitter.com/search?q=%22ASS%C3%89DIO+NA+RECORD%22'},\n",
      "            {'name': 'Joui',\n",
      "             'promoted_content': None,\n",
      "             'query': 'Joui',\n",
      "             'tweet_volume': 79202,\n",
      "             'url': 'http://twitter.com/search?q=Joui'},\n",
      "            {'name': 'Botafogo',\n",
      "             'promoted_content': None,\n",
      "             'query': 'Botafogo',\n",
      "             'tweet_volume': 44984,\n",
      "             'url': 'http://twitter.com/search?q=Botafogo'},\n",
      "            {'name': 'HAVE A SAFE FLIGHT',\n",
      "             'promoted_content': None,\n",
      "             'query': '%22HAVE+A+SAFE+FLIGHT%22',\n",
      "             'tweet_volume': 357903,\n",
      "             'url': 'http://twitter.com/search?q=%22HAVE+A+SAFE+FLIGHT%22'},\n",
      "            {'name': 'triz',\n",
      "             'promoted_content': None,\n",
      "             'query': 'triz',\n",
      "             'tweet_volume': 21454,\n",
      "             'url': 'http://twitter.com/search?q=triz'},\n",
      "            {'name': 'Diego Costa',\n",
      "             'promoted_content': None,\n",
      "             'query': '%22Diego+Costa%22',\n",
      "             'tweet_volume': 11812,\n",
      "             'url': 'http://twitter.com/search?q=%22Diego+Costa%22'},\n",
      "            {'name': 'marinho',\n",
      "             'promoted_content': None,\n",
      "             'query': 'marinho',\n",
      "             'tweet_volume': None,\n",
      "             'url': 'http://twitter.com/search?q=marinho'},\n",
      "            {'name': 'Azealia',\n",
      "             'promoted_content': None,\n",
      "             'query': 'Azealia',\n",
      "             'tweet_volume': 11006,\n",
      "             'url': 'http://twitter.com/search?q=Azealia'},\n",
      "            {'name': 'Vargas',\n",
      "             'promoted_content': None,\n",
      "             'query': 'Vargas',\n",
      "             'tweet_volume': 16054,\n",
      "             'url': 'http://twitter.com/search?q=Vargas'},\n",
      "            {'name': 'BDAY DO GALEGUIN',\n",
      "             'promoted_content': None,\n",
      "             'query': '%22BDAY+DO+GALEGUIN%22',\n",
      "             'tweet_volume': None,\n",
      "             'url': 'http://twitter.com/search?q=%22BDAY+DO+GALEGUIN%22'},\n",
      "            {'name': 'Datafolha',\n",
      "             'promoted_content': None,\n",
      "             'query': 'Datafolha',\n",
      "             'tweet_volume': 17455,\n",
      "             'url': 'http://twitter.com/search?q=Datafolha'},\n",
      "            {'name': 'Paulinho',\n",
      "             'promoted_content': None,\n",
      "             'query': 'Paulinho',\n",
      "             'tweet_volume': None,\n",
      "             'url': 'http://twitter.com/search?q=Paulinho'},\n",
      "            {'name': 'PROUD OF YOU LALISA',\n",
      "             'promoted_content': None,\n",
      "             'query': '%22PROUD+OF+YOU+LALISA%22',\n",
      "             'tweet_volume': 214182,\n",
      "             'url': 'http://twitter.com/search?q=%22PROUD+OF+YOU+LALISA%22'},\n",
      "            {'name': 'SVT NOSTALGIC CONCERTS',\n",
      "             'promoted_content': None,\n",
      "             'query': '%22SVT+NOSTALGIC+CONCERTS%22',\n",
      "             'tweet_volume': 37033,\n",
      "             'url': 'http://twitter.com/search?q=%22SVT+NOSTALGIC+CONCERTS%22'},\n",
      "            {'name': 'Montero',\n",
      "             'promoted_content': None,\n",
      "             'query': 'Montero',\n",
      "             'tweet_volume': 77546,\n",
      "             'url': 'http://twitter.com/search?q=Montero'},\n",
      "            {'name': 'Navarro',\n",
      "             'promoted_content': None,\n",
      "             'query': 'Navarro',\n",
      "             'tweet_volume': 15588,\n",
      "             'url': 'http://twitter.com/search?q=Navarro'},\n",
      "            {'name': 'Keno',\n",
      "             'promoted_content': None,\n",
      "             'query': 'Keno',\n",
      "             'tweet_volume': None,\n",
      "             'url': 'http://twitter.com/search?q=Keno'},\n",
      "            {'name': 'Dayane',\n",
      "             'promoted_content': None,\n",
      "             'query': 'Dayane',\n",
      "             'tweet_volume': 91697,\n",
      "             'url': 'http://twitter.com/search?q=Dayane'},\n",
      "            {'name': 'Aimee',\n",
      "             'promoted_content': None,\n",
      "             'query': 'Aimee',\n",
      "             'tweet_volume': 13605,\n",
      "             'url': 'http://twitter.com/search?q=Aimee'},\n",
      "            {'name': 'T-BAG',\n",
      "             'promoted_content': None,\n",
      "             'query': 'T-BAG',\n",
      "             'tweet_volume': None,\n",
      "             'url': 'http://twitter.com/search?q=T-BAG'},\n",
      "            {'name': 'Paulo Coelho',\n",
      "             'promoted_content': None,\n",
      "             'query': '%22Paulo+Coelho%22',\n",
      "             'tweet_volume': 11744,\n",
      "             'url': 'http://twitter.com/search?q=%22Paulo+Coelho%22'},\n",
      "            {'name': 'Solange',\n",
      "             'promoted_content': None,\n",
      "             'query': 'Solange',\n",
      "             'tweet_volume': 18417,\n",
      "             'url': 'http://twitter.com/search?q=Solange'},\n",
      "            {'name': 'kcon',\n",
      "             'promoted_content': None,\n",
      "             'query': 'kcon',\n",
      "             'tweet_volume': 117308,\n",
      "             'url': 'http://twitter.com/search?q=kcon'},\n",
      "            {'name': 'PROUD OF OLIVIA',\n",
      "             'promoted_content': None,\n",
      "             'query': '%22PROUD+OF+OLIVIA%22',\n",
      "             'tweet_volume': None,\n",
      "             'url': 'http://twitter.com/search?q=%22PROUD+OF+OLIVIA%22'},\n",
      "            {'name': 'artemis',\n",
      "             'promoted_content': None,\n",
      "             'query': 'artemis',\n",
      "             'tweet_volume': 15761,\n",
      "             'url': 'http://twitter.com/search?q=artemis'},\n",
      "            {'name': 'lucas fonseca',\n",
      "             'promoted_content': None,\n",
      "             'query': '%22lucas+fonseca%22',\n",
      "             'tweet_volume': None,\n",
      "             'url': 'http://twitter.com/search?q=%22lucas+fonseca%22'},\n",
      "            {'name': 'Aline',\n",
      "             'promoted_content': None,\n",
      "             'query': 'Aline',\n",
      "             'tweet_volume': 27678,\n",
      "             'url': 'http://twitter.com/search?q=Aline'},\n",
      "            {'name': 'Luiz Adriano',\n",
      "             'promoted_content': None,\n",
      "             'query': '%22Luiz+Adriano%22',\n",
      "             'tweet_volume': None,\n",
      "             'url': 'http://twitter.com/search?q=%22Luiz+Adriano%22'},\n",
      "            {'name': 'Virgínia',\n",
      "             'promoted_content': None,\n",
      "             'query': 'Virg%C3%ADnia',\n",
      "             'tweet_volume': 57185,\n",
      "             'url': 'http://twitter.com/search?q=Virg%C3%ADnia'},\n",
      "            {'name': 'vamos fluxo',\n",
      "             'promoted_content': None,\n",
      "             'query': '%22vamos+fluxo%22',\n",
      "             'tweet_volume': None,\n",
      "             'url': 'http://twitter.com/search?q=%22vamos+fluxo%22'},\n",
      "            {'name': 'Ana Paula',\n",
      "             'promoted_content': None,\n",
      "             'query': '%22Ana+Paula%22',\n",
      "             'tweet_volume': 10956,\n",
      "             'url': 'http://twitter.com/search?q=%22Ana+Paula%22'},\n"
     ]
    },
    {
     "name": "stdout",
     "output_type": "stream",
     "text": [
      "            {'name': 'chico césar',\n",
      "             'promoted_content': None,\n",
      "             'query': '%22chico+c%C3%A9sar%22',\n",
      "             'tweet_volume': None,\n",
      "             'url': 'http://twitter.com/search?q=%22chico+c%C3%A9sar%22'},\n",
      "            {'name': 'Rodallega',\n",
      "             'promoted_content': None,\n",
      "             'query': 'Rodallega',\n",
      "             'tweet_volume': None,\n",
      "             'url': 'http://twitter.com/search?q=Rodallega'},\n",
      "            {'name': 'Khai',\n",
      "             'promoted_content': None,\n",
      "             'query': 'Khai',\n",
      "             'tweet_volume': 18609,\n",
      "             'url': 'http://twitter.com/search?q=Khai'}]}\n"
     ]
    }
   ],
   "source": [
    "pprint.pprint(collection.find_one())"
   ]
  },
  {
   "cell_type": "markdown",
   "id": "39b7ee2d",
   "metadata": {},
   "source": [
    "### Printando o nome da coleção criada no banco de dados"
   ]
  },
  {
   "cell_type": "code",
   "execution_count": 12,
   "id": "7175a4d1",
   "metadata": {},
   "outputs": [
    {
     "data": {
      "text/plain": [
       "['top_trends']"
      ]
     },
     "execution_count": 12,
     "metadata": {},
     "output_type": "execute_result"
    }
   ],
   "source": [
    "database.list_collection_names()"
   ]
  },
  {
   "cell_type": "markdown",
   "id": "08d2ee8a",
   "metadata": {},
   "source": [
    "## Funcionalidade 3: Visualizando os Dados\n",
    "\n",
    "1. Importar os dados do mongodb para o pandas\n",
    "2. Usar a biblioteca pandas para criar um Dataframe dos *trends*\n",
    "3. Usar a biblioteca pandas para visualizar os dados em um gráfico\n",
    "4. Usar a biblioteca matplot para visualizar os dados em um gráfico "
   ]
  },
  {
   "cell_type": "code",
   "execution_count": 13,
   "id": "8b14091e",
   "metadata": {},
   "outputs": [
    {
     "name": "stdout",
     "output_type": "stream",
     "text": [
      "                              name  \\\n",
      "0                     Paulo Freire   \n",
      "1                         West Ham   \n",
      "2                             kcon   \n",
      "3                    José de Abreu   \n",
      "4                           Panamá   \n",
      "5                           Kurama   \n",
      "6            HARIANY COM DUTYCOLOR   \n",
      "7                        McTominay   \n",
      "8                           Varane   \n",
      "9           SVT NOSTALGIC CONCERTS   \n",
      "10                   Daniel Guedes   \n",
      "11                        O Google   \n",
      "12                     Globo Rural   \n",
      "13                     Zé de Abreu   \n",
      "14                Moisés e Patrick   \n",
      "15                          Hannie   \n",
      "16                     Bom Domingo   \n",
      "17  Patrono da Educação Brasileira   \n",
      "18                         Lindoso   \n",
      "19             PROUD OF YOU LALISA   \n",
      "20                          Barion   \n",
      "21                Hermione Granger   \n",
      "22                        Oprimido   \n",
      "23                        Eu Paulo   \n",
      "24                100º Aniversário   \n",
      "25                      Quartararo   \n",
      "26                   Feliz Domingo   \n",
      "27                   Ótimo Domingo   \n",
      "28                         Dourado   \n",
      "29                         Chuseok   \n",
      "30                       ELE CRAVA   \n",
      "31                            Emmy   \n",
      "32               Eduardo Bolsonaro   \n",
      "33               HOJE TEM FLAMENGO   \n",
      "34                       Pedagogia   \n",
      "35                          Tabata   \n",
      "36                         Pêssego   \n",
      "37            HOJE TEM CORINTHIANS   \n",
      "38                            PISA   \n",
      "39                            Lyon   \n",
      "40                          Connie   \n",
      "41                         Harvard   \n",
      "42                    São Januário   \n",
      "43                        Tarcísio   \n",
      "44                            Kane   \n",
      "\n",
      "                                                  url promoted_content  \\\n",
      "0      http://twitter.com/search?q=%22Paulo+Freire%22             None   \n",
      "1          http://twitter.com/search?q=%22West+Ham%22             None   \n",
      "2                    http://twitter.com/search?q=kcon             None   \n",
      "3   http://twitter.com/search?q=%22Jos%C3%A9+de+Ab...             None   \n",
      "4             http://twitter.com/search?q=Panam%C3%A1             None   \n",
      "5                  http://twitter.com/search?q=Kurama             None   \n",
      "6   http://twitter.com/search?q=%22HARIANY+COM+DUT...             None   \n",
      "7               http://twitter.com/search?q=McTominay             None   \n",
      "8                  http://twitter.com/search?q=Varane             None   \n",
      "9   http://twitter.com/search?q=%22SVT+NOSTALGIC+C...             None   \n",
      "10    http://twitter.com/search?q=%22Daniel+Guedes%22             None   \n",
      "11         http://twitter.com/search?q=%22O+Google%22             None   \n",
      "12      http://twitter.com/search?q=%22Globo+Rural%22             None   \n",
      "13  http://twitter.com/search?q=%22Z%C3%A9+de+Abre...             None   \n",
      "14  http://twitter.com/search?q=%22Mois%C3%A9s+e+P...             None   \n",
      "15                 http://twitter.com/search?q=Hannie             None   \n",
      "16      http://twitter.com/search?q=%22Bom+Domingo%22             None   \n",
      "17  http://twitter.com/search?q=%22Patrono+da+Educ...             None   \n",
      "18                http://twitter.com/search?q=Lindoso             None   \n",
      "19  http://twitter.com/search?q=%22PROUD+OF+YOU+LA...             None   \n",
      "20                 http://twitter.com/search?q=Barion             None   \n",
      "21  http://twitter.com/search?q=%22Hermione+Grange...             None   \n",
      "22               http://twitter.com/search?q=Oprimido             None   \n",
      "23         http://twitter.com/search?q=%22Eu+Paulo%22             None   \n",
      "24  http://twitter.com/search?q=%22100%C2%BA+Anive...             None   \n",
      "25             http://twitter.com/search?q=Quartararo             None   \n",
      "26    http://twitter.com/search?q=%22Feliz+Domingo%22             None   \n",
      "27  http://twitter.com/search?q=%22%C3%93timo+Domi...             None   \n",
      "28                http://twitter.com/search?q=Dourado             None   \n",
      "29                http://twitter.com/search?q=Chuseok             None   \n",
      "30        http://twitter.com/search?q=%22ELE+CRAVA%22             None   \n",
      "31                   http://twitter.com/search?q=Emmy             None   \n",
      "32  http://twitter.com/search?q=%22Eduardo+Bolsona...             None   \n",
      "33  http://twitter.com/search?q=%22HOJE+TEM+FLAMEN...             None   \n",
      "34              http://twitter.com/search?q=Pedagogia             None   \n",
      "35                 http://twitter.com/search?q=Tabata             None   \n",
      "36           http://twitter.com/search?q=P%C3%AAssego             None   \n",
      "37  http://twitter.com/search?q=%22HOJE+TEM+CORINT...             None   \n",
      "38                   http://twitter.com/search?q=PISA             None   \n",
      "39                   http://twitter.com/search?q=Lyon             None   \n",
      "40                 http://twitter.com/search?q=Connie             None   \n",
      "41                http://twitter.com/search?q=Harvard             None   \n",
      "42  http://twitter.com/search?q=%22S%C3%A3o+Janu%C...             None   \n",
      "43          http://twitter.com/search?q=Tarc%C3%ADsio             None   \n",
      "44                   http://twitter.com/search?q=Kane             None   \n",
      "\n",
      "                                             query  tweet_volume  \n",
      "0                               %22Paulo+Freire%22       64651.0  \n",
      "1                                   %22West+Ham%22       45765.0  \n",
      "2                                             kcon      178030.0  \n",
      "3                         %22Jos%C3%A9+de+Abreu%22           NaN  \n",
      "4                                      Panam%C3%A1       20687.0  \n",
      "5                                           Kurama           NaN  \n",
      "6                      %22HARIANY+COM+DUTYCOLOR%22           NaN  \n",
      "7                                        McTominay           NaN  \n",
      "8                                           Varane       11762.0  \n",
      "9                     %22SVT+NOSTALGIC+CONCERTS%22       76346.0  \n",
      "10                             %22Daniel+Guedes%22           NaN  \n",
      "11                                  %22O+Google%22       19346.0  \n",
      "12                               %22Globo+Rural%22           NaN  \n",
      "13                          %22Z%C3%A9+de+Abreu%22           NaN  \n",
      "14                     %22Mois%C3%A9s+e+Patrick%22           NaN  \n",
      "15                                          Hannie       17060.0  \n",
      "16                               %22Bom+Domingo%22       10344.0  \n",
      "17  %22Patrono+da+Educa%C3%A7%C3%A3o+Brasileira%22           NaN  \n",
      "18                                         Lindoso           NaN  \n",
      "19                       %22PROUD+OF+YOU+LALISA%22      254505.0  \n",
      "20                                          Barion           NaN  \n",
      "21                          %22Hermione+Granger%22           NaN  \n",
      "22                                        Oprimido           NaN  \n",
      "23                                  %22Eu+Paulo%22           NaN  \n",
      "24                %22100%C2%BA+Anivers%C3%A1rio%22           NaN  \n",
      "25                                      Quartararo           NaN  \n",
      "26                             %22Feliz+Domingo%22       21632.0  \n",
      "27                        %22%C3%93timo+Domingo%22           NaN  \n",
      "28                                         Dourado           NaN  \n",
      "29                                         Chuseok      228517.0  \n",
      "30                                 %22ELE+CRAVA%22           NaN  \n",
      "31                                            Emmy       23916.0  \n",
      "32                         %22Eduardo+Bolsonaro%22           NaN  \n",
      "33                         %22HOJE+TEM+FLAMENGO%22           NaN  \n",
      "34                                       Pedagogia           NaN  \n",
      "35                                          Tabata           NaN  \n",
      "36                                    P%C3%AAssego           NaN  \n",
      "37                      %22HOJE+TEM+CORINTHIANS%22           NaN  \n",
      "38                                            PISA           NaN  \n",
      "39                                            Lyon       22116.0  \n",
      "40                                          Connie           NaN  \n",
      "41                                         Harvard       12457.0  \n",
      "42                    %22S%C3%A3o+Janu%C3%A1rio%22           NaN  \n",
      "43                                   Tarc%C3%ADsio           NaN  \n",
      "44                                            Kane       25809.0  \n"
     ]
    }
   ],
   "source": [
    "trends = []\n",
    "for item in top_trends:\n",
    "    trends = item['trends']\n",
    "    \n",
    "df = pd.DataFrame(trends)\n",
    "print(df)"
   ]
  },
  {
   "cell_type": "code",
   "execution_count": 14,
   "id": "0b62fae9",
   "metadata": {},
   "outputs": [
    {
     "data": {
      "text/html": [
       "<div>\n",
       "<style scoped>\n",
       "    .dataframe tbody tr th:only-of-type {\n",
       "        vertical-align: middle;\n",
       "    }\n",
       "\n",
       "    .dataframe tbody tr th {\n",
       "        vertical-align: top;\n",
       "    }\n",
       "\n",
       "    .dataframe thead th {\n",
       "        text-align: right;\n",
       "    }\n",
       "</style>\n",
       "<table border=\"1\" class=\"dataframe\">\n",
       "  <thead>\n",
       "    <tr style=\"text-align: right;\">\n",
       "      <th></th>\n",
       "      <th>name</th>\n",
       "      <th>url</th>\n",
       "      <th>promoted_content</th>\n",
       "      <th>query</th>\n",
       "      <th>tweet_volume</th>\n",
       "    </tr>\n",
       "  </thead>\n",
       "  <tbody>\n",
       "    <tr>\n",
       "      <th>0</th>\n",
       "      <td>Paulo Freire</td>\n",
       "      <td>http://twitter.com/search?q=%22Paulo+Freire%22</td>\n",
       "      <td>None</td>\n",
       "      <td>%22Paulo+Freire%22</td>\n",
       "      <td>64651.0</td>\n",
       "    </tr>\n",
       "    <tr>\n",
       "      <th>1</th>\n",
       "      <td>West Ham</td>\n",
       "      <td>http://twitter.com/search?q=%22West+Ham%22</td>\n",
       "      <td>None</td>\n",
       "      <td>%22West+Ham%22</td>\n",
       "      <td>45765.0</td>\n",
       "    </tr>\n",
       "    <tr>\n",
       "      <th>2</th>\n",
       "      <td>kcon</td>\n",
       "      <td>http://twitter.com/search?q=kcon</td>\n",
       "      <td>None</td>\n",
       "      <td>kcon</td>\n",
       "      <td>178030.0</td>\n",
       "    </tr>\n",
       "    <tr>\n",
       "      <th>3</th>\n",
       "      <td>José de Abreu</td>\n",
       "      <td>http://twitter.com/search?q=%22Jos%C3%A9+de+Ab...</td>\n",
       "      <td>None</td>\n",
       "      <td>%22Jos%C3%A9+de+Abreu%22</td>\n",
       "      <td>NaN</td>\n",
       "    </tr>\n",
       "    <tr>\n",
       "      <th>4</th>\n",
       "      <td>Panamá</td>\n",
       "      <td>http://twitter.com/search?q=Panam%C3%A1</td>\n",
       "      <td>None</td>\n",
       "      <td>Panam%C3%A1</td>\n",
       "      <td>20687.0</td>\n",
       "    </tr>\n",
       "  </tbody>\n",
       "</table>\n",
       "</div>"
      ],
      "text/plain": [
       "            name                                                url  \\\n",
       "0   Paulo Freire     http://twitter.com/search?q=%22Paulo+Freire%22   \n",
       "1       West Ham         http://twitter.com/search?q=%22West+Ham%22   \n",
       "2           kcon                   http://twitter.com/search?q=kcon   \n",
       "3  José de Abreu  http://twitter.com/search?q=%22Jos%C3%A9+de+Ab...   \n",
       "4         Panamá            http://twitter.com/search?q=Panam%C3%A1   \n",
       "\n",
       "  promoted_content                     query  tweet_volume  \n",
       "0             None        %22Paulo+Freire%22       64651.0  \n",
       "1             None            %22West+Ham%22       45765.0  \n",
       "2             None                      kcon      178030.0  \n",
       "3             None  %22Jos%C3%A9+de+Abreu%22           NaN  \n",
       "4             None               Panam%C3%A1       20687.0  "
      ]
     },
     "execution_count": 14,
     "metadata": {},
     "output_type": "execute_result"
    }
   ],
   "source": [
    "df.head()"
   ]
  },
  {
   "cell_type": "code",
   "execution_count": 15,
   "id": "90536e4e",
   "metadata": {},
   "outputs": [
    {
     "data": {
      "text/plain": [
       "(45, 5)"
      ]
     },
     "execution_count": 15,
     "metadata": {},
     "output_type": "execute_result"
    }
   ],
   "source": [
    "df.shape"
   ]
  },
  {
   "cell_type": "code",
   "execution_count": 16,
   "id": "0f9cade5",
   "metadata": {},
   "outputs": [],
   "source": [
    "df_trends = df.rename(columns={'name': 'Nome', 'url': 'URI', 'promoted_content': 'Patrocinado', 'query': 'Hashtag', 'tweet_volume': 'Volume'})"
   ]
  },
  {
   "cell_type": "code",
   "execution_count": 17,
   "id": "0c4f2be4",
   "metadata": {},
   "outputs": [
    {
     "data": {
      "text/html": [
       "<div>\n",
       "<style scoped>\n",
       "    .dataframe tbody tr th:only-of-type {\n",
       "        vertical-align: middle;\n",
       "    }\n",
       "\n",
       "    .dataframe tbody tr th {\n",
       "        vertical-align: top;\n",
       "    }\n",
       "\n",
       "    .dataframe thead th {\n",
       "        text-align: right;\n",
       "    }\n",
       "</style>\n",
       "<table border=\"1\" class=\"dataframe\">\n",
       "  <thead>\n",
       "    <tr style=\"text-align: right;\">\n",
       "      <th></th>\n",
       "      <th>Nome</th>\n",
       "      <th>URI</th>\n",
       "      <th>Patrocinado</th>\n",
       "      <th>Hashtag</th>\n",
       "      <th>Volume</th>\n",
       "    </tr>\n",
       "  </thead>\n",
       "  <tbody>\n",
       "    <tr>\n",
       "      <th>0</th>\n",
       "      <td>Paulo Freire</td>\n",
       "      <td>http://twitter.com/search?q=%22Paulo+Freire%22</td>\n",
       "      <td>None</td>\n",
       "      <td>%22Paulo+Freire%22</td>\n",
       "      <td>64651.0</td>\n",
       "    </tr>\n",
       "    <tr>\n",
       "      <th>1</th>\n",
       "      <td>West Ham</td>\n",
       "      <td>http://twitter.com/search?q=%22West+Ham%22</td>\n",
       "      <td>None</td>\n",
       "      <td>%22West+Ham%22</td>\n",
       "      <td>45765.0</td>\n",
       "    </tr>\n",
       "    <tr>\n",
       "      <th>2</th>\n",
       "      <td>kcon</td>\n",
       "      <td>http://twitter.com/search?q=kcon</td>\n",
       "      <td>None</td>\n",
       "      <td>kcon</td>\n",
       "      <td>178030.0</td>\n",
       "    </tr>\n",
       "    <tr>\n",
       "      <th>3</th>\n",
       "      <td>José de Abreu</td>\n",
       "      <td>http://twitter.com/search?q=%22Jos%C3%A9+de+Ab...</td>\n",
       "      <td>None</td>\n",
       "      <td>%22Jos%C3%A9+de+Abreu%22</td>\n",
       "      <td>NaN</td>\n",
       "    </tr>\n",
       "    <tr>\n",
       "      <th>4</th>\n",
       "      <td>Panamá</td>\n",
       "      <td>http://twitter.com/search?q=Panam%C3%A1</td>\n",
       "      <td>None</td>\n",
       "      <td>Panam%C3%A1</td>\n",
       "      <td>20687.0</td>\n",
       "    </tr>\n",
       "  </tbody>\n",
       "</table>\n",
       "</div>"
      ],
      "text/plain": [
       "            Nome                                                URI  \\\n",
       "0   Paulo Freire     http://twitter.com/search?q=%22Paulo+Freire%22   \n",
       "1       West Ham         http://twitter.com/search?q=%22West+Ham%22   \n",
       "2           kcon                   http://twitter.com/search?q=kcon   \n",
       "3  José de Abreu  http://twitter.com/search?q=%22Jos%C3%A9+de+Ab...   \n",
       "4         Panamá            http://twitter.com/search?q=Panam%C3%A1   \n",
       "\n",
       "  Patrocinado                   Hashtag    Volume  \n",
       "0        None        %22Paulo+Freire%22   64651.0  \n",
       "1        None            %22West+Ham%22   45765.0  \n",
       "2        None                      kcon  178030.0  \n",
       "3        None  %22Jos%C3%A9+de+Abreu%22       NaN  \n",
       "4        None               Panam%C3%A1   20687.0  "
      ]
     },
     "execution_count": 17,
     "metadata": {},
     "output_type": "execute_result"
    }
   ],
   "source": [
    "df_trends.head()"
   ]
  },
  {
   "cell_type": "code",
   "execution_count": 18,
   "id": "81acfcb5",
   "metadata": {},
   "outputs": [
    {
     "data": {
      "text/plain": [
       "Nome            object\n",
       "URI             object\n",
       "Patrocinado     object\n",
       "Hashtag         object\n",
       "Volume         float64\n",
       "dtype: object"
      ]
     },
     "execution_count": 18,
     "metadata": {},
     "output_type": "execute_result"
    }
   ],
   "source": [
    "df_trends.dtypes"
   ]
  },
  {
   "cell_type": "code",
   "execution_count": 19,
   "id": "cf3d8ed8",
   "metadata": {},
   "outputs": [],
   "source": [
    "df_trends[\"Volume\"].fillna(0, inplace=True)"
   ]
  },
  {
   "cell_type": "code",
   "execution_count": 20,
   "id": "0bc0ac8f",
   "metadata": {},
   "outputs": [
    {
     "data": {
      "text/plain": [
       "Nome\n",
       "100º Aniversário                       0.0\n",
       "Barion                                 0.0\n",
       "Bom Domingo                        10344.0\n",
       "Chuseok                           228517.0\n",
       "Connie                                 0.0\n",
       "Daniel Guedes                          0.0\n",
       "Dourado                                0.0\n",
       "ELE CRAVA                              0.0\n",
       "Eduardo Bolsonaro                      0.0\n",
       "Emmy                               23916.0\n",
       "Eu Paulo                               0.0\n",
       "Feliz Domingo                      21632.0\n",
       "Globo Rural                            0.0\n",
       "HARIANY COM DUTYCOLOR                  0.0\n",
       "HOJE TEM CORINTHIANS                   0.0\n",
       "HOJE TEM FLAMENGO                      0.0\n",
       "Hannie                             17060.0\n",
       "Harvard                            12457.0\n",
       "Hermione Granger                       0.0\n",
       "José de Abreu                          0.0\n",
       "Kane                               25809.0\n",
       "Kurama                                 0.0\n",
       "Lindoso                                0.0\n",
       "Lyon                               22116.0\n",
       "McTominay                              0.0\n",
       "Moisés e Patrick                       0.0\n",
       "O Google                           19346.0\n",
       "Oprimido                               0.0\n",
       "PISA                                   0.0\n",
       "PROUD OF YOU LALISA               254505.0\n",
       "Panamá                             20687.0\n",
       "Patrono da Educação Brasileira         0.0\n",
       "Paulo Freire                       64651.0\n",
       "Pedagogia                              0.0\n",
       "Pêssego                                0.0\n",
       "Quartararo                             0.0\n",
       "SVT NOSTALGIC CONCERTS             76346.0\n",
       "São Januário                           0.0\n",
       "Tabata                                 0.0\n",
       "Tarcísio                               0.0\n",
       "Varane                             11762.0\n",
       "West Ham                           45765.0\n",
       "Zé de Abreu                            0.0\n",
       "kcon                              178030.0\n",
       "Ótimo Domingo                          0.0\n",
       "Name: Volume, dtype: float64"
      ]
     },
     "execution_count": 20,
     "metadata": {},
     "output_type": "execute_result"
    }
   ],
   "source": [
    "# Qual o volume de tweet dado um nome\n",
    "df_trends.groupby(\"Nome\")[\"Volume\"].mean()"
   ]
  },
  {
   "cell_type": "code",
   "execution_count": 72,
   "id": "0bfad9ce",
   "metadata": {},
   "outputs": [
    {
     "data": {
      "image/png": "[encoded data removed]",
      "text/plain": [
       "<Figure size 1080x648 with 1 Axes>"
      ]
     },
     "metadata": {
      "needs_background": "light"
     },
     "output_type": "display_data"
    }
   ],
   "source": [
    "df_trends.plot(x=\"Nome\", y=[\"Volume\"], figsize=(15,9))\n",
    "plt.title('Top Trendings do Twitter')\n",
    "plt.show()"
   ]
  },
  {
   "cell_type": "code",
   "execution_count": 71,
   "id": "5094290b",
   "metadata": {},
   "outputs": [
    {
     "data": {
      "text/plain": [
       "Text(0.5, 1.0, 'Top Trendings do Twitter')"
      ]
     },
     "execution_count": 71,
     "metadata": {},
     "output_type": "execute_result"
    },
    {
     "data": {
      "image/png": "[encoded data removed]",
      "text/plain": [
       "<Figure size 720x360 with 1 Axes>"
      ]
     },
     "metadata": {
      "needs_background": "light"
     },
     "output_type": "display_data"
    }
   ],
   "source": [
    "# Volume acima de 0\n",
    "top = df_trends[df_trends[\"Volume\"] > 0].sort_values(\"Volume\")\n",
    "top.plot(x=\"Nome\", y=[\"Volume\"], kind=\"bar\", figsize=(10,5))\n",
    "plt.title('Top Trendings do Twitter')"
   ]
  },
  {
   "cell_type": "code",
   "execution_count": 69,
   "id": "61510cff",
   "metadata": {},
   "outputs": [
    {
     "data": {
      "text/plain": [
       "<AxesSubplot:xlabel='Nome'>"
      ]
     },
     "execution_count": 69,
     "metadata": {},
     "output_type": "execute_result"
    },
    {
     "data": {
      "image/png": "[encoded data removed]",
      "text/plain": [
       "<Figure size 1080x648 with 1 Axes>"
      ]
     },
     "metadata": {
      "needs_background": "light"
     },
     "output_type": "display_data"
    }
   ],
   "source": [
    "top = df_trends[df_trends[\"Volume\"] > 0].sort_values(\"Volume\")\n",
    "top.plot(x=\"Nome\", y=\"Volume\", kind='line', figsize=(15,9))"
   ]
  },
  {
   "cell_type": "code",
   "execution_count": 76,
   "id": "b02e8401",
   "metadata": {},
   "outputs": [
    {
     "data": {
      "image/png": "[encoded data removed]",
      "text/plain": [
       "<Figure size 1080x648 with 1 Axes>"
      ]
     },
     "metadata": {
      "needs_background": "light"
     },
     "output_type": "display_data"
    }
   ],
   "source": [
    "x = np.linspace(0.0, 5.0, 45)\n",
    "fig, ax = plt.subplots(figsize=(15, 9))\n",
    "fig.subplots_adjust(bottom=0.15, left=0.2)\n",
    "plt.plot(x, df_trends[\"Volume\"], marker='o')\n",
    "plt.title('Top Trendings do Twitter', fontsize=14)\n",
    "plt.xlabel('Nome', fontsize=14)\n",
    "plt.ylabel('Volume', fontsize=14)\n",
    "plt.grid(True)\n",
    "plt.show()"
   ]
  },
  {
   "cell_type": "code",
   "execution_count": null,
   "id": "af73bb39",
   "metadata": {},
   "outputs": [],
   "source": []
  }
 ],
 "metadata": {
  "interpreter": {
   "hash": "eb55d2a687cf553baad710d12a0de64b639405cf57588a43ad5f6933c4daf7cb"
  },
  "kernelspec": {
   "display_name": "Python 3",
   "language": "python",
   "name": "python3"
  },
  "language_info": {
   "codemirror_mode": {
    "name": "ipython",
    "version": 3
   },
   "file_extension": ".py",
   "mimetype": "text/x-python",
   "name": "python",
   "nbconvert_exporter": "python",
   "pygments_lexer": "ipython3",
   "version": "3.8.8"
  }
 },
 "nbformat": 4,
 "nbformat_minor": 5
}
