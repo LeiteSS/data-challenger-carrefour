{
 "cells": [
  {
   "cell_type": "markdown",
   "id": "c90922ea",
   "metadata": {},
   "source": [
    "# Top Trendings do Twitter\n",
    "**Objetivos:** Desenvolver uma aplicação para monitorar o top trending e seu devido volume na rede social com o passar do tempo.\n",
    "\n",
    "## Funcionalidades\n",
    "**Requisitos funcionais obrigatorios**:\n",
    "- [x] Utilizar a api do twitter para consumir o top trending e seu devido volume.\n",
    "- [ ] Armazenar o histórico das trendings em um banco de dados noSQL.\n",
    "- [ ] Utilizar alguma biblioteca gráfica para exibir os dados.\n",
    "**Requisito funcional opcional**:\n",
    "- [ ] Utilizar IA para análise de sentimento dos tweets referentes aos top trendings"
   ]
  },
  {
   "cell_type": "markdown",
   "id": "b75b9367",
   "metadata": {},
   "source": [
    "### Instação das Bibliotecas\n",
    "Para instalar as bibliotecas, será usado o comando abaixo, do qual lê um arquivo de texto que se encontra na raiz do projeto e possui as bibliotecas usadas neste projeto."
   ]
  },
  {
   "cell_type": "code",
   "execution_count": null,
   "id": "b808328e",
   "metadata": {},
   "outputs": [],
   "source": [
    "! python -m pip install -r requirements.txt"
   ]
  },
  {
   "cell_type": "markdown",
   "id": "f822bd7a",
   "metadata": {},
   "source": [
    "### Imports"
   ]
  },
  {
   "cell_type": "code",
   "execution_count": null,
   "id": "28adb29c",
   "metadata": {},
   "outputs": [],
   "source": [
    "import json\n",
    "\n",
    "import requests\n",
    "\n",
    "from modules import mongoDb\n",
    "from modules import fileToDic as fd\n",
    "from modules import apiKeys as api"
   ]
  },
  {
   "cell_type": "code",
   "execution_count": null,
   "id": "fba323d1",
   "metadata": {},
   "outputs": [],
   "source": [
    "file = open(\"input/WOEID.txt\")"
   ]
  },
  {
   "cell_type": "code",
   "execution_count": null,
   "id": "609929be",
   "metadata": {},
   "outputs": [],
   "source": [
    "countries = {}"
   ]
  },
  {
   "cell_type": "code",
   "execution_count": null,
   "id": "7acc89df",
   "metadata": {},
   "outputs": [],
   "source": [
    "search_url = \"https://api.twitter.com/1.1/trends/place.json\""
   ]
  },
  {
   "cell_type": "code",
   "execution_count": null,
   "id": "1e2a38ec",
   "metadata": {},
   "outputs": [],
   "source": [
    "bearer_token = api.key['bearer_token']"
   ]
  },
  {
   "cell_type": "code",
   "execution_count": null,
   "id": "4888d8b2",
   "metadata": {},
   "outputs": [],
   "source": [
    "countries = fd.dictionary(file, countries)"
   ]
  },
  {
   "cell_type": "code",
   "execution_count": null,
   "id": "c6b536d1",
   "metadata": {},
   "outputs": [],
   "source": [
    "query_params = {'id': countries['BRAZIL']}"
   ]
  },
  {
   "cell_type": "code",
   "execution_count": null,
   "id": "e02fbbc6",
   "metadata": {},
   "outputs": [],
   "source": [
    "def bearer_oauth(r):\n",
    "  '''\n",
    "  Autenticação usando o bearer token\n",
    "  '''\n",
    "  r.headers[\"Authorization\"] = f\"Bearer {bearer_token}\"\n",
    "  r.headers[\"User-Agent\"] = \"v2RecentSearchPython\"\n",
    "\n",
    "  return r"
   ]
  },
  {
   "cell_type": "code",
   "execution_count": null,
   "id": "9593089a",
   "metadata": {},
   "outputs": [],
   "source": [
    "def connect_to_endpoint(url, params):\n",
    "  '''\n",
    "  Se conecta a url dada com o parametros dado.\n",
    "  Consultar a documentação para saber o parametros nessario na pesquisa\n",
    "  '''\n",
    "  response = requests.get(url, auth=bearer_oauth, params=params)\n",
    "  print(response.status_code)\n",
    "  if response.status_code != 200:\n",
    "    raise Exception(response.status_code, response.text)\n",
    "        \n",
    "  return response.json()"
   ]
  },
  {
   "cell_type": "code",
   "execution_count": null,
   "id": "c4721f19",
   "metadata": {},
   "outputs": [],
   "source": [
    "json_response = connect_to_endpoint(search_url, query_params)\n",
    "print(json.dumps(json_response, indent=4, sort_keys=True))"
   ]
  },
  {
   "cell_type": "code",
   "execution_count": null,
   "id": "169b62e1",
   "metadata": {},
   "outputs": [],
   "source": []
  }
 ],
 "metadata": {
  "interpreter": {
   "hash": "eb55d2a687cf553baad710d12a0de64b639405cf57588a43ad5f6933c4daf7cb"
  },
  "kernelspec": {
   "display_name": "Python 3",
   "language": "python",
   "name": "python3"
  },
  "language_info": {
   "codemirror_mode": {
    "name": "ipython",
    "version": 3
   },
   "file_extension": ".py",
   "mimetype": "text/x-python",
   "name": "python",
   "nbconvert_exporter": "python",
   "pygments_lexer": "ipython3",
   "version": "3.8.8"
  }
 },
 "nbformat": 4,
 "nbformat_minor": 5
}
