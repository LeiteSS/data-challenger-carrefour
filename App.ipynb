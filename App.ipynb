{
 "cells": [
  {
   "cell_type": "markdown",
   "id": "be07819d",
   "metadata": {},
   "source": [
    "# Top Trendings do Twitter\n",
    "**Objetivos:** Desenvolver uma aplicação para monitorar o top trending e seu devido volume na rede social com o passar do tempo.\n",
    "\n",
    "## Funcionalidades\n",
    "**Requisitos funcionais obrigatorios**:\n",
    "- [X] Utilizar a api do twitter para consumir o top trending e seu devido volume.\n",
    "- [X] Armazenar o histórico das trendings em um banco de dados noSQL.\n",
    "- [X] Utilizar alguma biblioteca gráfica para exibir os dados.\n",
    "\n",
    "**Requisito funcional opcional**:\n",
    "- [ ] Utilizar IA para análise de sentimento dos tweets referentes aos top trendings"
   ]
  },
  {
   "cell_type": "markdown",
   "id": "766bac6f",
   "metadata": {},
   "source": [
    "### Instação das Bibliotecas\n",
    "Para instalar as bibliotecas, será usado um arquivo de texto com todas as dependências necessarias para este projeto funcionar."
   ]
  },
  {
   "cell_type": "code",
   "execution_count": null,
   "id": "3422f213",
   "metadata": {},
   "outputs": [],
   "source": [
    "! python -m pip install -r requirements.txt"
   ]
  },
  {
   "cell_type": "markdown",
   "id": "14520900",
   "metadata": {},
   "source": [
    "### Imports"
   ]
  },
  {
   "cell_type": "code",
   "execution_count": 1,
   "id": "28adb29c",
   "metadata": {},
   "outputs": [],
   "source": [
    "import re\n",
    "import json\n",
    "import pprint\n",
    "\n",
    "import requests\n",
    "import pandas as pd\n",
    "import numpy as np\n",
    "import matplotlib.pyplot as plt\n",
    "\n",
    "from modules import mongoDb\n",
    "from modules import fileToDic as fd\n",
    "from modules import apiKeys as api\n",
    "from modules import mongoEnv"
   ]
  },
  {
   "cell_type": "markdown",
   "id": "2846c4ef",
   "metadata": {},
   "source": [
    "## Funcionalidade 1: Consome o top trending e seu devido volume.\n",
    "\n",
    "1. Abrir o arquivo `WOEID.txt` para poder ler os paises e seu identificadores.\n",
    "2. Usando a função `dictionary` que esta no arquivo `fileToDic`, o arquivo com os paises e seus respectivos valores serão convertidos em dicionario.\n",
    "3. Usando o dicionario `key` que está no arquivo `apiKeys`, o valor do `BEARER_TOKEN` no arquivo `.env` será atribuido a varivel `bearer_token`. O Bearer Token será usado na autenticação da url que retorna os *trends* de um determinado pais.\n",
    "4. Para buscar o trending de um determinado pais iremos usar a url: https://api.twitter.com/1.1/trends/place.json\n",
    "5. Entretanto, devemos passar o parametro que no caso é o id de um pais.\n",
    "\n",
    "Fonte: https://developer.twitter.com/en/docs/twitter-api/v1/trends/trends-for-location/api-reference/get-trends-place"
   ]
  },
  {
   "cell_type": "code",
   "execution_count": 2,
   "id": "fba323d1",
   "metadata": {},
   "outputs": [],
   "source": [
    "countries = {}\n",
    "file = open(\"input/WOEID.txt\")\n",
    "countries = fd.dictionary(file, countries)\n",
    "\n",
    "bearer_token = api.key['bearer_token']\n",
    "\n",
    "search_url = \"https://api.twitter.com/1.1/trends/place.json\"\n",
    "\n",
    "query_params = {'id': countries['BRAZIL'], 'exclude': 'hashtags'}"
   ]
  },
  {
   "cell_type": "markdown",
   "id": "830cb153",
   "metadata": {},
   "source": [
    "Está função usa o *bearer token* para poder realizar a autenticação, por mais que não irá logar no **twitter** o *bearer token* \"representa uma autorização do Server emitida para o client. Por sua vez, o client deve possuir mecanismos próprios para identificar e validar o Token\".\n",
    "\n",
    "Fonte: [Bruno Brito](https://www.brunobrito.net.br/jwt-cookies-oauth-bearer/)."
   ]
  },
  {
   "cell_type": "code",
   "execution_count": 3,
   "id": "30485663",
   "metadata": {},
   "outputs": [],
   "source": [
    "def bearer_oauth(r):\n",
    "  '''\n",
    "  Autenticação usando o bearer token\n",
    "  '''\n",
    "  r.headers[\"Authorization\"] = f\"Bearer {bearer_token}\"\n",
    "  r.headers[\"User-Agent\"] = \"v2RecentSearchPython\"\n",
    "\n",
    "  return r"
   ]
  },
  {
   "cell_type": "markdown",
   "id": "682c2a95",
   "metadata": {},
   "source": [
    "Usando a url e o parametros necessario, a função abaixo retorna um *response* no formato **json**. Veja onde a função `bearer_oauth` será usada.\n",
    "\n",
    "Fonte: https://github.com/twitterdev/Twitter-API-v2-sample-code/blob/main/Recent-Search/recent_search.py"
   ]
  },
  {
   "cell_type": "code",
   "execution_count": 4,
   "id": "a78b90da",
   "metadata": {},
   "outputs": [],
   "source": [
    "def connect_to_endpoint(url, params):\n",
    "  '''\n",
    "  Se conecta a url dada com o parametros dado.\n",
    "  Consultar a documentação para saber o parametros nessario na pesquisa\n",
    "  '''\n",
    "  response = requests.get(url, auth=bearer_oauth, params=params)\n",
    "  print(response.status_code)\n",
    "  if response.status_code != 200:\n",
    "    raise Exception(response.status_code, response.text)\n",
    "        \n",
    "  return response.json()"
   ]
  },
  {
   "cell_type": "markdown",
   "id": "e79bdb1e",
   "metadata": {},
   "source": [
    "## Funcionalidade 2: Persistir os dados\n",
    "\n",
    "1. criar conexão com o banco, neste projeto usando o MongoDb\n",
    "2. Criar um banco chamado `tweets_db`\n",
    "3. Criar uma coleção chamada `top_trends`\n",
    "4. Inserir a *response* nesta coleção\n",
    "\n",
    "Fonte: https://pymongo.readthedocs.io/en/stable/tutorial.html"
   ]
  },
  {
   "cell_type": "markdown",
   "id": "8f933a60",
   "metadata": {},
   "source": [
    "### Variaveis de Ambiente"
   ]
  },
  {
   "cell_type": "code",
   "execution_count": 5,
   "id": "5d270417",
   "metadata": {},
   "outputs": [],
   "source": [
    "username = mongoEnv.key_mongo['mongo_username']\n",
    "pwd = mongoEnv.key_mongo['mongo_password']"
   ]
  },
  {
   "cell_type": "markdown",
   "id": "3b340a23",
   "metadata": {},
   "source": [
    "### Conexão com banco de dados"
   ]
  },
  {
   "cell_type": "code",
   "execution_count": 6,
   "id": "a7c84d03",
   "metadata": {},
   "outputs": [],
   "source": [
    "mongo_client = mongoDb.connect_to_mongo(username, pwd, '27017')"
   ]
  },
  {
   "cell_type": "markdown",
   "id": "4b72bc5c",
   "metadata": {},
   "source": [
    "### Criação do Banco de Dados e a Coleção"
   ]
  },
  {
   "cell_type": "code",
   "execution_count": 7,
   "id": "7162ee30",
   "metadata": {},
   "outputs": [],
   "source": [
    "database = mongoDb.create_db(mongo_client, 'tweets_db')\n",
    "collection = database['top_trends']"
   ]
  },
  {
   "cell_type": "markdown",
   "id": "d4545311",
   "metadata": {},
   "source": [
    "### Conectando ao Endpoint da Twitter API"
   ]
  },
  {
   "cell_type": "code",
   "execution_count": 8,
   "id": "443b8c97",
   "metadata": {},
   "outputs": [
    {
     "name": "stdout",
     "output_type": "stream",
     "text": [
      "200\n"
     ]
    }
   ],
   "source": [
    "top_trends = connect_to_endpoint(search_url, query_params)"
   ]
  },
  {
   "cell_type": "markdown",
   "id": "0a291962",
   "metadata": {},
   "source": [
    "### Persistindo os dados encontrado no Json\n",
    "Aqui eu decidi fazer um for para inserir um de cada vez, porém eu observei que só foi criado um unico documento, sendo que os top trendings é uma lista com os 50 top trendings da data atual."
   ]
  },
  {
   "cell_type": "code",
   "execution_count": 9,
   "id": "89985e3f",
   "metadata": {},
   "outputs": [],
   "source": [
    "for trend in top_trends:\n",
    "    trend_id = collection.insert_one(trend).inserted_id"
   ]
  },
  {
   "cell_type": "markdown",
   "id": "0ad353a8",
   "metadata": {},
   "source": [
    "### Procurando e Printando o primeiro documento"
   ]
  },
  {
   "cell_type": "code",
   "execution_count": 10,
   "id": "1a280c00",
   "metadata": {},
   "outputs": [
    {
     "name": "stdout",
     "output_type": "stream",
     "text": [
      "{'_id': ObjectId('6147193c5b64b01e186febf6'),\n",
      " 'as_of': '2021-09-19T11:04:28Z',\n",
      " 'created_at': '2021-09-15T02:00:22Z',\n",
      " 'locations': [{'name': 'Brazil', 'woeid': 23424768}],\n",
      " 'trends': [{'name': '#Calamidade',\n",
      "             'promoted_content': None,\n",
      "             'query': '%23Calamidade',\n",
      "             'tweet_volume': 286336,\n",
      "             'url': 'http://twitter.com/search?q=%23Calamidade'},\n",
      "            {'name': 'Otis',\n",
      "             'promoted_content': None,\n",
      "             'query': 'Otis',\n",
      "             'tweet_volume': 59009,\n",
      "             'url': 'http://twitter.com/search?q=Otis'},\n",
      "            {'name': 'Paulo Freire',\n",
      "             'promoted_content': None,\n",
      "             'query': '%22Paulo+Freire%22',\n",
      "             'tweet_volume': 43627,\n",
      "             'url': 'http://twitter.com/search?q=%22Paulo+Freire%22'},\n",
      "            {'name': 'juliette no altas horas',\n",
      "             'promoted_content': None,\n",
      "             'query': '%22juliette+no+altas+horas%22',\n",
      "             'tweet_volume': 84069,\n",
      "             'url': 'http://twitter.com/search?q=%22juliette+no+altas+horas%22'},\n",
      "            {'name': 'Borel',\n",
      "             'promoted_content': None,\n",
      "             'query': 'Borel',\n",
      "             'tweet_volume': 170407,\n",
      "             'url': 'http://twitter.com/search?q=Borel'},\n",
      "            {'name': 'Maeve',\n",
      "             'promoted_content': None,\n",
      "             'query': 'Maeve',\n",
      "             'tweet_volume': 35146,\n",
      "             'url': 'http://twitter.com/search?q=Maeve'},\n",
      "            {'name': 'Kian',\n",
      "             'promoted_content': None,\n",
      "             'query': 'Kian',\n",
      "             'tweet_volume': 33860,\n",
      "             'url': 'http://twitter.com/search?q=Kian'},\n",
      "            {'name': 'Eric',\n",
      "             'promoted_content': None,\n",
      "             'query': 'Eric',\n",
      "             'tweet_volume': 94529,\n",
      "             'url': 'http://twitter.com/search?q=Eric'},\n",
      "            {'name': 'Dynho',\n",
      "             'promoted_content': None,\n",
      "             'query': 'Dynho',\n",
      "             'tweet_volume': 60318,\n",
      "             'url': 'http://twitter.com/search?q=Dynho'},\n",
      "            {'name': '#ColdplayXBTSisComing',\n",
      "             'promoted_content': None,\n",
      "             'query': '%23ColdplayXBTSisComing',\n",
      "             'tweet_volume': 34881,\n",
      "             'url': 'http://twitter.com/search?q=%23ColdplayXBTSisComing'},\n",
      "            {'name': 'Arana',\n",
      "             'promoted_content': None,\n",
      "             'query': 'Arana',\n",
      "             'tweet_volume': 19928,\n",
      "             'url': 'http://twitter.com/search?q=Arana'},\n",
      "            {'name': '#BORUTO',\n",
      "             'promoted_content': None,\n",
      "             'query': '%23BORUTO',\n",
      "             'tweet_volume': 12562,\n",
      "             'url': 'http://twitter.com/search?q=%23BORUTO'},\n",
      "            {'name': '#MyUniverseIsComing',\n",
      "             'promoted_content': None,\n",
      "             'query': '%23MyUniverseIsComing',\n",
      "             'tweet_volume': 34196,\n",
      "             'url': 'http://twitter.com/search?q=%23MyUniverseIsComing'},\n",
      "            {'name': 'Nego',\n",
      "             'promoted_content': None,\n",
      "             'query': 'Nego',\n",
      "             'tweet_volume': 209488,\n",
      "             'url': 'http://twitter.com/search?q=Nego'},\n",
      "            {'name': 'o diabo vem hoje',\n",
      "             'promoted_content': None,\n",
      "             'query': '%22o+diabo+vem+hoje%22',\n",
      "             'tweet_volume': 12935,\n",
      "             'url': 'http://twitter.com/search?q=%22o+diabo+vem+hoje%22'},\n",
      "            {'name': '#BatmanDay',\n",
      "             'promoted_content': None,\n",
      "             'query': '%23BatmanDay',\n",
      "             'tweet_volume': 171169,\n",
      "             'url': 'http://twitter.com/search?q=%23BatmanDay'},\n",
      "            {'name': 'ASSÉDIO NA RECORD',\n",
      "             'promoted_content': None,\n",
      "             'query': '%22ASS%C3%89DIO+NA+RECORD%22',\n",
      "             'tweet_volume': 125065,\n",
      "             'url': 'http://twitter.com/search?q=%22ASS%C3%89DIO+NA+RECORD%22'},\n",
      "            {'name': 'Joui',\n",
      "             'promoted_content': None,\n",
      "             'query': 'Joui',\n",
      "             'tweet_volume': 79202,\n",
      "             'url': 'http://twitter.com/search?q=Joui'},\n",
      "            {'name': 'Botafogo',\n",
      "             'promoted_content': None,\n",
      "             'query': 'Botafogo',\n",
      "             'tweet_volume': 44984,\n",
      "             'url': 'http://twitter.com/search?q=Botafogo'},\n",
      "            {'name': 'HAVE A SAFE FLIGHT',\n",
      "             'promoted_content': None,\n",
      "             'query': '%22HAVE+A+SAFE+FLIGHT%22',\n",
      "             'tweet_volume': 357903,\n",
      "             'url': 'http://twitter.com/search?q=%22HAVE+A+SAFE+FLIGHT%22'},\n",
      "            {'name': 'triz',\n",
      "             'promoted_content': None,\n",
      "             'query': 'triz',\n",
      "             'tweet_volume': 21454,\n",
      "             'url': 'http://twitter.com/search?q=triz'},\n",
      "            {'name': 'Diego Costa',\n",
      "             'promoted_content': None,\n",
      "             'query': '%22Diego+Costa%22',\n",
      "             'tweet_volume': 11812,\n",
      "             'url': 'http://twitter.com/search?q=%22Diego+Costa%22'},\n",
      "            {'name': 'marinho',\n",
      "             'promoted_content': None,\n",
      "             'query': 'marinho',\n",
      "             'tweet_volume': None,\n",
      "             'url': 'http://twitter.com/search?q=marinho'},\n",
      "            {'name': 'Azealia',\n",
      "             'promoted_content': None,\n",
      "             'query': 'Azealia',\n",
      "             'tweet_volume': 11006,\n",
      "             'url': 'http://twitter.com/search?q=Azealia'},\n",
      "            {'name': 'Vargas',\n",
      "             'promoted_content': None,\n",
      "             'query': 'Vargas',\n",
      "             'tweet_volume': 16054,\n",
      "             'url': 'http://twitter.com/search?q=Vargas'},\n",
      "            {'name': 'BDAY DO GALEGUIN',\n",
      "             'promoted_content': None,\n",
      "             'query': '%22BDAY+DO+GALEGUIN%22',\n",
      "             'tweet_volume': None,\n",
      "             'url': 'http://twitter.com/search?q=%22BDAY+DO+GALEGUIN%22'},\n",
      "            {'name': 'Datafolha',\n",
      "             'promoted_content': None,\n",
      "             'query': 'Datafolha',\n",
      "             'tweet_volume': 17455,\n",
      "             'url': 'http://twitter.com/search?q=Datafolha'},\n",
      "            {'name': 'Paulinho',\n",
      "             'promoted_content': None,\n",
      "             'query': 'Paulinho',\n",
      "             'tweet_volume': None,\n",
      "             'url': 'http://twitter.com/search?q=Paulinho'},\n",
      "            {'name': 'PROUD OF YOU LALISA',\n",
      "             'promoted_content': None,\n",
      "             'query': '%22PROUD+OF+YOU+LALISA%22',\n",
      "             'tweet_volume': 214182,\n",
      "             'url': 'http://twitter.com/search?q=%22PROUD+OF+YOU+LALISA%22'},\n",
      "            {'name': 'SVT NOSTALGIC CONCERTS',\n",
      "             'promoted_content': None,\n",
      "             'query': '%22SVT+NOSTALGIC+CONCERTS%22',\n",
      "             'tweet_volume': 37033,\n",
      "             'url': 'http://twitter.com/search?q=%22SVT+NOSTALGIC+CONCERTS%22'},\n",
      "            {'name': 'Montero',\n",
      "             'promoted_content': None,\n",
      "             'query': 'Montero',\n",
      "             'tweet_volume': 77546,\n",
      "             'url': 'http://twitter.com/search?q=Montero'},\n",
      "            {'name': 'Navarro',\n",
      "             'promoted_content': None,\n",
      "             'query': 'Navarro',\n",
      "             'tweet_volume': 15588,\n",
      "             'url': 'http://twitter.com/search?q=Navarro'},\n",
      "            {'name': 'Keno',\n",
      "             'promoted_content': None,\n",
      "             'query': 'Keno',\n",
      "             'tweet_volume': None,\n",
      "             'url': 'http://twitter.com/search?q=Keno'},\n",
      "            {'name': 'Dayane',\n",
      "             'promoted_content': None,\n",
      "             'query': 'Dayane',\n",
      "             'tweet_volume': 91697,\n",
      "             'url': 'http://twitter.com/search?q=Dayane'},\n",
      "            {'name': 'Aimee',\n",
      "             'promoted_content': None,\n",
      "             'query': 'Aimee',\n",
      "             'tweet_volume': 13605,\n",
      "             'url': 'http://twitter.com/search?q=Aimee'},\n",
      "            {'name': 'T-BAG',\n",
      "             'promoted_content': None,\n",
      "             'query': 'T-BAG',\n",
      "             'tweet_volume': None,\n",
      "             'url': 'http://twitter.com/search?q=T-BAG'},\n",
      "            {'name': 'Paulo Coelho',\n",
      "             'promoted_content': None,\n",
      "             'query': '%22Paulo+Coelho%22',\n",
      "             'tweet_volume': 11744,\n",
      "             'url': 'http://twitter.com/search?q=%22Paulo+Coelho%22'},\n",
      "            {'name': 'Solange',\n",
      "             'promoted_content': None,\n",
      "             'query': 'Solange',\n",
      "             'tweet_volume': 18417,\n",
      "             'url': 'http://twitter.com/search?q=Solange'},\n",
      "            {'name': 'kcon',\n",
      "             'promoted_content': None,\n",
      "             'query': 'kcon',\n",
      "             'tweet_volume': 117308,\n",
      "             'url': 'http://twitter.com/search?q=kcon'},\n",
      "            {'name': 'PROUD OF OLIVIA',\n",
      "             'promoted_content': None,\n",
      "             'query': '%22PROUD+OF+OLIVIA%22',\n",
      "             'tweet_volume': None,\n",
      "             'url': 'http://twitter.com/search?q=%22PROUD+OF+OLIVIA%22'},\n",
      "            {'name': 'artemis',\n",
      "             'promoted_content': None,\n",
      "             'query': 'artemis',\n",
      "             'tweet_volume': 15761,\n",
      "             'url': 'http://twitter.com/search?q=artemis'},\n",
      "            {'name': 'lucas fonseca',\n",
      "             'promoted_content': None,\n",
      "             'query': '%22lucas+fonseca%22',\n",
      "             'tweet_volume': None,\n",
      "             'url': 'http://twitter.com/search?q=%22lucas+fonseca%22'},\n",
      "            {'name': 'Aline',\n",
      "             'promoted_content': None,\n",
      "             'query': 'Aline',\n",
      "             'tweet_volume': 27678,\n",
      "             'url': 'http://twitter.com/search?q=Aline'},\n",
      "            {'name': 'Luiz Adriano',\n",
      "             'promoted_content': None,\n",
      "             'query': '%22Luiz+Adriano%22',\n",
      "             'tweet_volume': None,\n",
      "             'url': 'http://twitter.com/search?q=%22Luiz+Adriano%22'},\n",
      "            {'name': 'Virgínia',\n",
      "             'promoted_content': None,\n",
      "             'query': 'Virg%C3%ADnia',\n",
      "             'tweet_volume': 57185,\n",
      "             'url': 'http://twitter.com/search?q=Virg%C3%ADnia'},\n",
      "            {'name': 'vamos fluxo',\n",
      "             'promoted_content': None,\n",
      "             'query': '%22vamos+fluxo%22',\n",
      "             'tweet_volume': None,\n",
      "             'url': 'http://twitter.com/search?q=%22vamos+fluxo%22'},\n",
      "            {'name': 'Ana Paula',\n",
      "             'promoted_content': None,\n",
      "             'query': '%22Ana+Paula%22',\n",
      "             'tweet_volume': 10956,\n",
      "             'url': 'http://twitter.com/search?q=%22Ana+Paula%22'},\n",
      "            {'name': 'chico césar',\n",
      "             'promoted_content': None,\n",
      "             'query': '%22chico+c%C3%A9sar%22',\n",
      "             'tweet_volume': None,\n",
      "             'url': 'http://twitter.com/search?q=%22chico+c%C3%A9sar%22'},\n",
      "            {'name': 'Rodallega',\n",
      "             'promoted_content': None,\n",
      "             'query': 'Rodallega',\n",
      "             'tweet_volume': None,\n",
      "             'url': 'http://twitter.com/search?q=Rodallega'},\n",
      "            {'name': 'Khai',\n",
      "             'promoted_content': None,\n",
      "             'query': 'Khai',\n",
      "             'tweet_volume': 18609,\n",
      "             'url': 'http://twitter.com/search?q=Khai'}]}\n"
     ]
    }
   ],
   "source": [
    "pprint.pprint(collection.find_one())"
   ]
  },
  {
   "cell_type": "markdown",
   "id": "39b7ee2d",
   "metadata": {},
   "source": [
    "### Printando o nome da coleção criada no banco de dados"
   ]
  },
  {
   "cell_type": "code",
   "execution_count": 11,
   "id": "7175a4d1",
   "metadata": {},
   "outputs": [
    {
     "data": {
      "text/plain": [
       "['top_trends']"
      ]
     },
     "execution_count": 11,
     "metadata": {},
     "output_type": "execute_result"
    }
   ],
   "source": [
    "database.list_collection_names()"
   ]
  },
  {
   "cell_type": "markdown",
   "id": "08d2ee8a",
   "metadata": {},
   "source": [
    "## Funcionalidade 3: Visualizando os Dados\n",
    "\n",
    "1. Extrair as trends de um determinado pais. \n",
    "2. Tratar dos campos NaN.\n",
    "2. Usar a biblioteca pandas para criar um Dataframe dos *trends*\n",
    "3. Usar a biblioteca pandas para visualizar os dados em um gráfico\n",
    "4. Usar a biblioteca matplot para visualizar os dados em um gráfico \n",
    "\n",
    "Fontes: [Analise Exploratoria - Projeto DIO](https://github.com/LeiteSS/analise_exploratoria); [Plot With Pandas: Python Data Visualization for Beginners](https://realpython.com/pandas-plot-python/); [Return Json List And Python Requests Library](https://stackoverflow.com/questions/51458509/return-json-list-and-python-requests-library); [How to Increase Image Size of Pandas Dataframe plot in Jupyter Notebook](https://stackoverflow.com/questions/51174691/how-to-increase-image-size-of-pandas-dataframe-plot-in-jupyter-notebook) "
   ]
  },
  {
   "cell_type": "markdown",
   "id": "d30b47a0",
   "metadata": {},
   "source": [
    "### Extrai as Trends"
   ]
  },
  {
   "cell_type": "code",
   "execution_count": 12,
   "id": "8b14091e",
   "metadata": {},
   "outputs": [],
   "source": [
    "trends = []\n",
    "for item in top_trends:\n",
    "    trends = item['trends']"
   ]
  },
  {
   "cell_type": "markdown",
   "id": "7d9cde21",
   "metadata": {},
   "source": [
    "### Dataframe com as Trends"
   ]
  },
  {
   "cell_type": "code",
   "execution_count": 13,
   "id": "2ef735ba",
   "metadata": {},
   "outputs": [],
   "source": [
    "df = pd.DataFrame(trends)"
   ]
  },
  {
   "cell_type": "markdown",
   "id": "274c100f",
   "metadata": {},
   "source": [
    "#### Comandos Importantes\n",
    "Deixei anexados aqui alguns comando que foram usados depois de ter convertido a lista em Dataframe.\n",
    "```py\n",
    "df.head() # retorna as primeiras 5 linhas (por padrão) de um dataframe\n",
    "\n",
    "df.shape # retorna a quantidade de linha e a quantidade de colunas de um dataframe\n",
    "\n",
    "df.dtypes # retorna o tipo de cada coluna\n",
    "```"
   ]
  },
  {
   "cell_type": "markdown",
   "id": "1d47793e",
   "metadata": {},
   "source": [
    "### Mudando os Nomes dos Campos"
   ]
  },
  {
   "cell_type": "code",
   "execution_count": 14,
   "id": "0b62fae9",
   "metadata": {},
   "outputs": [],
   "source": [
    "df_trends = df.rename(\n",
    "    columns={\n",
    "        'name': 'Nome', \n",
    "        'url': 'URI', \n",
    "        'promoted_content': 'Patrocinado', \n",
    "        'query': 'Hashtag', \n",
    "        'tweet_volume': 'Volume'\n",
    "    }\n",
    ")"
   ]
  },
  {
   "cell_type": "markdown",
   "id": "6d7fe3e5",
   "metadata": {},
   "source": [
    "### Preenche os valores *Not A Number* com Zeros"
   ]
  },
  {
   "cell_type": "code",
   "execution_count": 15,
   "id": "cf3d8ed8",
   "metadata": {},
   "outputs": [],
   "source": [
    "df_trends[\"Volume\"].fillna(0, inplace=True)"
   ]
  },
  {
   "cell_type": "markdown",
   "id": "03f0f757",
   "metadata": {},
   "source": [
    "### Agrupando os nomes com o volume de tweets\n",
    "Este projeto irá apresentar o volume de tweets usando uma determinado nome que uma determinada hashtag tem."
   ]
  },
  {
   "cell_type": "code",
   "execution_count": 16,
   "id": "0bc0ac8f",
   "metadata": {},
   "outputs": [
    {
     "data": {
      "text/plain": [
       "Nome\n",
       "Aguirre                        0.0\n",
       "Boruto                     54792.0\n",
       "Boschilia                      0.0\n",
       "Chiefs                     37428.0\n",
       "David Moyes                    0.0\n",
       "De Gea                     92754.0\n",
       "Dourado                        0.0\n",
       "Edna                           0.0\n",
       "Educação                   38523.0\n",
       "Eurocopa                       0.0\n",
       "FALA DELE                      0.0\n",
       "HARIANY COM DUTYCOLOR          0.0\n",
       "HYPNOTIZED BY ITZY         23068.0\n",
       "Jinjin                     48517.0\n",
       "José de Abreu                  0.0\n",
       "Kurama                         0.0\n",
       "Lindoso                        0.0\n",
       "Lingard                    60098.0\n",
       "Lucas Lima                     0.0\n",
       "Maguire                    17960.0\n",
       "Man United                 29226.0\n",
       "Matic                      81954.0\n",
       "Maurício                   15831.0\n",
       "McTominay                  13648.0\n",
       "Moisés                         0.0\n",
       "Noble                      58621.0\n",
       "O Google                   21473.0\n",
       "O Inter                        0.0\n",
       "Panamá                     20696.0\n",
       "Paulo Freire               85036.0\n",
       "SVT NOSTALGIC CONCERTS     80172.0\n",
       "Sancho                     31591.0\n",
       "Saravia                        0.0\n",
       "Seungmin                   85685.0\n",
       "Shaw                       19386.0\n",
       "Solskjaer                  19419.0\n",
       "Tottenham                  49383.0\n",
       "UM ANO TAEL                11916.0\n",
       "Van de Beek                    0.0\n",
       "Varane                     15910.0\n",
       "West Ham                   23129.0\n",
       "Zouma                      11606.0\n",
       "Zé de Abreu                    0.0\n",
       "daniel guedes                  0.0\n",
       "kcon                      195054.0\n",
       "Name: Volume, dtype: float64"
      ]
     },
     "execution_count": 16,
     "metadata": {},
     "output_type": "execute_result"
    }
   ],
   "source": [
    "# Qual o volume de tweet usando o nome como indicador\n",
    "df_trends.groupby(\"Nome\")[\"Volume\"].mean()"
   ]
  },
  {
   "cell_type": "markdown",
   "id": "df67a5af",
   "metadata": {},
   "source": [
    "### Traçando os Gráficos"
   ]
  },
  {
   "cell_type": "code",
   "execution_count": 17,
   "id": "5094290b",
   "metadata": {},
   "outputs": [
    {
     "data": {
      "text/plain": [
       "Text(0.5, 1.0, 'Top Trendings do Twitter')"
      ]
     },
     "execution_count": 17,
     "metadata": {},
     "output_type": "execute_result"
    },
    {
     "data": {
      "image/png": "[encoded data removed]",
      "text/plain": [
       "<Figure size 720x360 with 1 Axes>"
      ]
     },
     "metadata": {
      "needs_background": "light"
     },
     "output_type": "display_data"
    }
   ],
   "source": [
    "# Volume acima de 0\n",
    "top = df_trends[df_trends[\"Volume\"] > 0].sort_values(\"Volume\")\n",
    "top.plot(x=\"Nome\", y=[\"Volume\"], kind=\"bar\", figsize=(10,5))\n",
    "plt.title('Top Trendings do Twitter')"
   ]
  },
  {
   "cell_type": "code",
   "execution_count": 18,
   "id": "b02e8401",
   "metadata": {},
   "outputs": [
    {
     "data": {
      "image/png": "[encoded data removed]",
      "text/plain": [
       "<Figure size 1080x648 with 1 Axes>"
      ]
     },
     "metadata": {
      "needs_background": "light"
     },
     "output_type": "display_data"
    }
   ],
   "source": [
    "x = np.linspace(0.0, 5.0, 45)\n",
    "fig, ax = plt.subplots(figsize=(15, 9))\n",
    "fig.subplots_adjust(bottom=0.15, left=0.2)\n",
    "plt.plot(x, df_trends[\"Volume\"], marker='o')\n",
    "plt.title('Top Trendings do Twitter', fontsize=14)\n",
    "plt.xlabel('Dados', fontsize=14)\n",
    "plt.ylabel('Volume', fontsize=14)\n",
    "plt.grid(True)\n",
    "plt.show()"
   ]
  },
  {
   "cell_type": "code",
   "execution_count": 19,
   "id": "61510cff",
   "metadata": {},
   "outputs": [
    {
     "data": {
      "text/plain": [
       "<AxesSubplot:xlabel='Nome'>"
      ]
     },
     "execution_count": 19,
     "metadata": {},
     "output_type": "execute_result"
    },
    {
     "data": {
      "image/png": "[encoded data removed]",
      "text/plain": [
       "<Figure size 1080x648 with 1 Axes>"
      ]
     },
     "metadata": {
      "needs_background": "light"
     },
     "output_type": "display_data"
    }
   ],
   "source": [
    "top = df_trends[df_trends[\"Volume\"] > 0].sort_values(\"Volume\")\n",
    "top.plot(x=\"Nome\", y=\"Volume\", kind='line', figsize=(15,9))"
   ]
  },
  {
   "cell_type": "code",
   "execution_count": null,
   "id": "8bd03ac7",
   "metadata": {},
   "outputs": [],
   "source": []
  }
 ],
 "metadata": {
  "interpreter": {
   "hash": "eb55d2a687cf553baad710d12a0de64b639405cf57588a43ad5f6933c4daf7cb"
  },
  "kernelspec": {
   "display_name": "Python 3",
   "language": "python",
   "name": "python3"
  },
  "language_info": {
   "codemirror_mode": {
    "name": "ipython",
    "version": 3
   },
   "file_extension": ".py",
   "mimetype": "text/x-python",
   "name": "python",
   "nbconvert_exporter": "python",
   "pygments_lexer": "ipython3",
   "version": "3.8.8"
  }
 },
 "nbformat": 4,
 "nbformat_minor": 5
}
