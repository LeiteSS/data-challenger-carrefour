{
 "cells": [
  {
   "cell_type": "markdown",
   "id": "be07819d",
   "metadata": {},
   "source": [
    "# Top Trendings do Twitter\n",
    "**Objetivos:** Desenvolver uma aplicação para monitorar o top trending e seu devido volume na rede social com o passar do tempo.\n",
    "\n",
    "## Funcionalidades\n",
    "**Requisitos funcionais obrigatorios**:\n",
    "- [X] Utilizar a api do twitter para consumir o top trending e seu devido volume.\n",
    "- [X] Armazenar o histórico das trendings em um banco de dados noSQL.\n",
    "- [X] Utilizar alguma biblioteca gráfica para exibir os dados.\n",
    "\n",
    "**Requisito funcional opcional**:\n",
    "- [ ] Utilizar IA para análise de sentimento dos tweets referentes aos top trendings"
   ]
  },
  {
   "cell_type": "markdown",
   "id": "766bac6f",
   "metadata": {},
   "source": [
    "### Instação das Bibliotecas\n",
    "Para instalar as bibliotecas, será usado um arquivo de texto com todas as dependências necessarias para este projeto funcionar."
   ]
  },
  {
   "cell_type": "code",
   "execution_count": null,
   "id": "3422f213",
   "metadata": {},
   "outputs": [],
   "source": [
    "! python -m pip install -r requirements.txt"
   ]
  },
  {
   "cell_type": "markdown",
   "id": "14520900",
   "metadata": {},
   "source": [
    "### Imports"
   ]
  },
  {
   "cell_type": "code",
   "execution_count": null,
   "id": "28adb29c",
   "metadata": {},
   "outputs": [],
   "source": [
    "import re\n",
    "import json\n",
    "import pprint\n",
    "\n",
    "import requests\n",
    "import pandas as pd\n",
    "import numpy as np\n",
    "import matplotlib.pyplot as plt\n",
    "\n",
    "from modules import mongoDb\n",
    "from modules import fileToDic as fd\n",
    "from modules import apiKeys as api\n",
    "from modules import mongoEnv"
   ]
  },
  {
   "cell_type": "markdown",
   "id": "2846c4ef",
   "metadata": {},
   "source": [
    "## Funcionalidade 1: Consome o top trending e seu devido volume.\n",
    "\n",
    "1. Abrir o arquivo `WOEID.txt` para poder ler os paises e seu identificadores.\n",
    "2. Usando a função `dictionary` que esta no arquivo `fileToDic`, o arquivo com os paises e seus respectivos valores serão convertidos em dicionario.\n",
    "3. Usando o dicionario `key` que está no arquivo `apiKeys`, o valor do `BEARER_TOKEN` no arquivo `.env` será atribuido a varivel `bearer_token`. O Bearer Token será usado na autenticação da url que retorna os *trends* de um determinado pais.\n",
    "4. Para buscar o trending de um determinado pais iremos usar a url: https://api.twitter.com/1.1/trends/place.json\n",
    "5. Entretanto, devemos passar o parametro que no caso é o id de um pais.\n",
    "\n",
    "Fonte: https://developer.twitter.com/en/docs/twitter-api/v1/trends/trends-for-location/api-reference/get-trends-place"
   ]
  },
  {
   "cell_type": "code",
   "execution_count": null,
   "id": "fba323d1",
   "metadata": {},
   "outputs": [],
   "source": [
    "countries = {}\n",
    "file = open(\"input/WOEID.txt\")\n",
    "countries = fd.dictionary(file, countries)\n",
    "\n",
    "bearer_token = api.key['bearer_token']\n",
    "\n",
    "search_url = \"https://api.twitter.com/1.1/trends/place.json\"\n",
    "\n",
    "query_params = {'id': countries['BRAZIL'], 'exclude': 'hashtags'}"
   ]
  },
  {
   "cell_type": "markdown",
   "id": "830cb153",
   "metadata": {},
   "source": [
    "Está função usa o *bearer token* para poder realizar a autenticação, por mais que não irá logar no **twitter** o *bearer token* \"representa uma autorização do Server emitida para o client. Por sua vez, o client deve possuir mecanismos próprios para identificar e validar o Token\".\n",
    "\n",
    "Fonte: [Bruno Brito](https://www.brunobrito.net.br/jwt-cookies-oauth-bearer/)."
   ]
  },
  {
   "cell_type": "code",
   "execution_count": null,
   "id": "30485663",
   "metadata": {},
   "outputs": [],
   "source": [
    "def bearer_oauth(r):\n",
    "  '''\n",
    "  Autenticação usando o bearer token\n",
    "  '''\n",
    "  r.headers[\"Authorization\"] = f\"Bearer {bearer_token}\"\n",
    "  r.headers[\"User-Agent\"] = \"v2RecentSearchPython\"\n",
    "\n",
    "  return r"
   ]
  },
  {
   "cell_type": "markdown",
   "id": "682c2a95",
   "metadata": {},
   "source": [
    "Usando a url e o parametros necessario, a função abaixo retorna um *response* no formato **json**. Veja onde a função `bearer_oauth` será usada.\n",
    "\n",
    "Fonte: https://github.com/twitterdev/Twitter-API-v2-sample-code/blob/main/Recent-Search/recent_search.py"
   ]
  },
  {
   "cell_type": "code",
   "execution_count": null,
   "id": "a78b90da",
   "metadata": {},
   "outputs": [],
   "source": [
    "def connect_to_endpoint(url, params):\n",
    "  '''\n",
    "  Se conecta a url dada com o parametros dado.\n",
    "  Consultar a documentação para saber o parametros nessario na pesquisa\n",
    "  '''\n",
    "  response = requests.get(url, auth=bearer_oauth, params=params)\n",
    "  print(response.status_code)\n",
    "  if response.status_code != 200:\n",
    "    raise Exception(response.status_code, response.text)\n",
    "        \n",
    "  return response.json()"
   ]
  },
  {
   "cell_type": "markdown",
   "id": "e79bdb1e",
   "metadata": {},
   "source": [
    "## Funcionalidade 2: Persistir os dados\n",
    "\n",
    "1. criar conexão com o banco, neste projeto usando o MongoDb\n",
    "2. Criar um banco chamado `tweets_db`\n",
    "3. Criar uma coleção chamada `top_trends`\n",
    "4. Inserir a *response* nesta coleção\n",
    "\n",
    "Fonte: https://pymongo.readthedocs.io/en/stable/tutorial.html"
   ]
  },
  {
   "cell_type": "markdown",
   "id": "8f933a60",
   "metadata": {},
   "source": [
    "### Variaveis de Ambiente"
   ]
  },
  {
   "cell_type": "code",
   "execution_count": null,
   "id": "5d270417",
   "metadata": {},
   "outputs": [],
   "source": [
    "username = mongoEnv.key_mongo['mongo_username']\n",
    "pwd = mongoEnv.key_mongo['mongo_password']"
   ]
  },
  {
   "cell_type": "markdown",
   "id": "3b340a23",
   "metadata": {},
   "source": [
    "### Conexão com banco de dados"
   ]
  },
  {
   "cell_type": "code",
   "execution_count": null,
   "id": "a7c84d03",
   "metadata": {},
   "outputs": [],
   "source": [
    "mongo_client = mongoDb.connect_to_mongo(username, pwd, '27017')"
   ]
  },
  {
   "cell_type": "markdown",
   "id": "4b72bc5c",
   "metadata": {},
   "source": [
    "### Criação do Banco de Dados e a Coleção"
   ]
  },
  {
   "cell_type": "code",
   "execution_count": null,
   "id": "7162ee30",
   "metadata": {},
   "outputs": [],
   "source": [
    "database = mongoDb.create_db(mongo_client, 'tweets_db')\n",
    "collection = database['top_trends']"
   ]
  },
  {
   "cell_type": "markdown",
   "id": "d4545311",
   "metadata": {},
   "source": [
    "### Conectando ao Endpoint da Twitter API"
   ]
  },
  {
   "cell_type": "code",
   "execution_count": null,
   "id": "443b8c97",
   "metadata": {},
   "outputs": [],
   "source": [
    "top_trends = connect_to_endpoint(search_url, query_params)"
   ]
  },
  {
   "cell_type": "markdown",
   "id": "0a291962",
   "metadata": {},
   "source": [
    "### Persistindo os dados encontrado no Json\n",
    "Aqui eu decidi fazer um for para inserir um de cada vez, porém eu observei que só foi criado um unico documento, sendo que os top trendings é uma lista com os 50 top trendings da data atual."
   ]
  },
  {
   "cell_type": "code",
   "execution_count": null,
   "id": "89985e3f",
   "metadata": {},
   "outputs": [],
   "source": [
    "for trend in top_trends:\n",
    "    trend_id = collection.insert_one(trend).inserted_id"
   ]
  },
  {
   "cell_type": "markdown",
   "id": "0ad353a8",
   "metadata": {},
   "source": [
    "### Procurando e Printando o primeiro documento"
   ]
  },
  {
   "cell_type": "code",
   "execution_count": null,
   "id": "1a280c00",
   "metadata": {},
   "outputs": [],
   "source": [
    "pprint.pprint(collection.find_one())"
   ]
  },
  {
   "cell_type": "markdown",
   "id": "39b7ee2d",
   "metadata": {},
   "source": [
    "### Printando o nome da coleção criada no banco de dados"
   ]
  },
  {
   "cell_type": "code",
   "execution_count": null,
   "id": "7175a4d1",
   "metadata": {},
   "outputs": [],
   "source": [
    "database.list_collection_names()"
   ]
  },
  {
   "cell_type": "markdown",
   "id": "08d2ee8a",
   "metadata": {},
   "source": [
    "## Funcionalidade 3: Visualizando os Dados\n",
    "\n",
    "1. Extrair as trends de um determinado pais. \n",
    "2. Tratar dos campos NaN.\n",
    "2. Usar a biblioteca pandas para criar um Dataframe dos *trends*\n",
    "3. Usar a biblioteca pandas para visualizar os dados em um gráfico\n",
    "4. Usar a biblioteca matplot para visualizar os dados em um gráfico \n",
    "\n",
    "Fontes: [Analise Exploratoria - Projeto DIO](https://github.com/LeiteSS/analise_exploratoria); [Plot With Pandas: Python Data Visualization for Beginners](https://realpython.com/pandas-plot-python/); [Return Json List And Python Requests Library](https://stackoverflow.com/questions/51458509/return-json-list-and-python-requests-library); [How to Increase Image Size of Pandas Dataframe plot in Jupyter Notebook](https://stackoverflow.com/questions/51174691/how-to-increase-image-size-of-pandas-dataframe-plot-in-jupyter-notebook) "
   ]
  },
  {
   "cell_type": "markdown",
   "id": "431a829e",
   "metadata": {},
   "source": [
    "### Extrai as Trends"
   ]
  },
  {
   "cell_type": "code",
   "execution_count": null,
   "id": "8b14091e",
   "metadata": {},
   "outputs": [],
   "source": [
    "trends = []\n",
    "for item in top_trends:\n",
    "    trends = item['trends']"
   ]
  },
  {
   "cell_type": "markdown",
   "id": "0b156c8c",
   "metadata": {},
   "source": [
    "### Dataframe com as Trends"
   ]
  },
  {
   "cell_type": "code",
   "execution_count": null,
   "id": "f2ec5a0d",
   "metadata": {},
   "outputs": [],
   "source": [
    "df = pd.DataFrame(trends)"
   ]
  },
  {
   "cell_type": "markdown",
   "id": "b2c4c250",
   "metadata": {},
   "source": [
    "#### Comandos Importantes\n",
    "Deixei anexados aqui alguns comando que foram usados depois de ter convertido a lista em Dataframe.\n",
    "```py\n",
    "df.head() # retorna as primeiras 5 linhas (por padrão) de um dataframe\n",
    "\n",
    "df.shape # retorna a quantidade de linha e a quantidade de colunas de um dataframe\n",
    "\n",
    "df.dtypes # retorna o tipo de cada coluna\n",
    "```"
   ]
  },
  {
   "cell_type": "markdown",
   "id": "afbd5bdb",
   "metadata": {},
   "source": [
    "### Mudando os Nomes dos Campos"
   ]
  },
  {
   "cell_type": "code",
   "execution_count": null,
   "id": "0b62fae9",
   "metadata": {},
   "outputs": [],
   "source": [
    "df_trends = df.rename(\n",
    "    columns={\n",
    "        'name': 'Nome', \n",
    "        'url': 'URI', \n",
    "        'promoted_content': 'Patrocinado', \n",
    "        'query': 'Hashtag', \n",
    "        'tweet_volume': 'Volume'\n",
    "    }\n",
    ")"
   ]
  },
  {
   "cell_type": "markdown",
   "id": "58e50b46",
   "metadata": {},
   "source": [
    "### Preenche os valores *Not A Number* com Zeros"
   ]
  },
  {
   "cell_type": "code",
   "execution_count": null,
   "id": "cf3d8ed8",
   "metadata": {},
   "outputs": [],
   "source": [
    "df_trends[\"Volume\"].fillna(0, inplace=True)"
   ]
  },
  {
   "cell_type": "markdown",
   "id": "d01fa0d3",
   "metadata": {},
   "source": [
    "### Agrupando os nomes com o volume de tweets\n",
    "Este projeto irá apresentar o volume de tweets usando uma determinado nome que uma determinada hashtag tem."
   ]
  },
  {
   "cell_type": "code",
   "execution_count": null,
   "id": "0bc0ac8f",
   "metadata": {},
   "outputs": [],
   "source": [
    "# Qual o volume de tweet usando o nome como indicador\n",
    "df_trends.groupby(\"Nome\")[\"Volume\"].mean()"
   ]
  },
  {
   "cell_type": "markdown",
   "id": "2403444d",
   "metadata": {},
   "source": [
    "### Traçando os Gráficos"
   ]
  },
  {
   "cell_type": "code",
   "execution_count": null,
   "id": "5094290b",
   "metadata": {},
   "outputs": [],
   "source": [
    "# Volume acima de 0\n",
    "top = df_trends[df_trends[\"Volume\"] > 0].sort_values(\"Volume\")\n",
    "top.plot(x=\"Nome\", y=[\"Volume\"], kind=\"bar\", figsize=(10,5))\n",
    "plt.title('Top Trendings do Twitter')"
   ]
  },
  {
   "cell_type": "code",
   "execution_count": null,
   "id": "b02e8401",
   "metadata": {},
   "outputs": [],
   "source": [
    "x = np.linspace(0.0, 5.0, 45)\n",
    "fig, ax = plt.subplots(figsize=(15, 9))\n",
    "fig.subplots_adjust(bottom=0.15, left=0.2)\n",
    "plt.plot(x, df_trends[\"Volume\"], marker='o')\n",
    "plt.title('Top Trendings do Twitter', fontsize=14)\n",
    "plt.xlabel('Dados', fontsize=14)\n",
    "plt.ylabel('Volume', fontsize=14)\n",
    "plt.grid(True)\n",
    "plt.show()"
   ]
  },
  {
   "cell_type": "code",
   "execution_count": null,
   "id": "61510cff",
   "metadata": {},
   "outputs": [],
   "source": [
    "top = df_trends[df_trends[\"Volume\"] > 0].sort_values(\"Volume\")\n",
    "top.plot(x=\"Nome\", y=\"Volume\", kind='line', figsize=(15,9))"
   ]
  }
 ],
 "metadata": {
  "interpreter": {
   "hash": "eb55d2a687cf553baad710d12a0de64b639405cf57588a43ad5f6933c4daf7cb"
  },
  "kernelspec": {
   "display_name": "Python 3",
   "language": "python",
   "name": "python3"
  },
  "language_info": {
   "codemirror_mode": {
    "name": "ipython",
    "version": 3
   },
   "file_extension": ".py",
   "mimetype": "text/x-python",
   "name": "python",
   "nbconvert_exporter": "python",
   "pygments_lexer": "ipython3",
   "version": "3.8.8"
  }
 },
 "nbformat": 4,
 "nbformat_minor": 5
}
