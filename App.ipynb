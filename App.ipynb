{
 "cells": [
  {
   "cell_type": "markdown",
   "id": "b19704d7",
   "metadata": {},
   "source": [
    "# Top Trendings do Twitter\n",
    "**Objetivos:** Desenvolver uma aplicação para monitorar o top trending e seu devido volume na rede social com o passar do tempo.\n",
    "\n",
    "## Funcionalidades\n",
    "**Requisitos funcionais obrigatorios**:\n",
    "- [x] Utilizar a api do twitter para consumir o top trending e seu devido volume.\n",
    "- [x] Armazenar o histórico das trendings em um banco de dados noSQL.\n",
    "- [ ] Utilizar alguma biblioteca gráfica para exibir os dados.\n",
    "**Requisito funcional opcional**:\n",
    "- [ ] Utilizar IA para análise de sentimento dos tweets referentes aos top trendings"
   ]
  },
  {
   "cell_type": "markdown",
   "id": "6f9b2f00",
   "metadata": {},
   "source": [
    "### Instação das Bibliotecas\n",
    "Para instalar as bibliotecas, será usado um arquivo de texto com todas as dependências necessarias para este projeto funcionar."
   ]
  },
  {
   "cell_type": "code",
   "execution_count": 1,
   "id": "6b27adbb",
   "metadata": {},
   "outputs": [
    {
     "name": "stdout",
     "output_type": "stream",
     "text": [
      "Requirement already satisfied: requests in c:\\users\\bigch\\anaconda3\\lib\\site-packages (from -r requirements.txt (line 1)) (2.25.1)\n",
      "Requirement already satisfied: python-dotenv in c:\\users\\bigch\\anaconda3\\lib\\site-packages (from -r requirements.txt (line 2)) (0.19.0)\n",
      "Requirement already satisfied: pymongo in c:\\users\\bigch\\anaconda3\\lib\\site-packages (from -r requirements.txt (line 3)) (3.7.2)\n",
      "Requirement already satisfied: chardet<5,>=3.0.2 in c:\\users\\bigch\\anaconda3\\lib\\site-packages (from requests->-r requirements.txt (line 1)) (4.0.0)\n",
      "Requirement already satisfied: certifi>=2017.4.17 in c:\\users\\bigch\\anaconda3\\lib\\site-packages (from requests->-r requirements.txt (line 1)) (2020.12.5)\n",
      "Requirement already satisfied: idna<3,>=2.5 in c:\\users\\bigch\\anaconda3\\lib\\site-packages (from requests->-r requirements.txt (line 1)) (2.10)\n",
      "Requirement already satisfied: urllib3<1.27,>=1.21.1 in c:\\users\\bigch\\anaconda3\\lib\\site-packages (from requests->-r requirements.txt (line 1)) (1.26.4)\n"
     ]
    }
   ],
   "source": [
    "! python -m pip install -r requirements.txt"
   ]
  },
  {
   "cell_type": "markdown",
   "id": "181d8bbf",
   "metadata": {},
   "source": [
    "### Imports"
   ]
  },
  {
   "cell_type": "code",
   "execution_count": 2,
   "id": "28adb29c",
   "metadata": {},
   "outputs": [],
   "source": [
    "import json\n",
    "import pprint\n",
    "\n",
    "import requests\n",
    "\n",
    "from modules import mongoDb\n",
    "from modules import fileToDic as fd\n",
    "from modules import apiKeys as api\n",
    "from modules import mongoEnv"
   ]
  },
  {
   "cell_type": "markdown",
   "id": "7f058e1d",
   "metadata": {},
   "source": [
    "## Funcionalidade 1: Consome o top trending e seu devido volume.\n",
    "\n",
    "1. Abrir o arquivo `WOEID.txt` para poder ler os paises e seu identificadores.\n",
    "2. Usando a função `dictionary` que esta no arquivo `fileToDic`, o arquivo com os paises e seus respectivos valores serão convertidos em dicionario.\n",
    "3. Usando o dicionario `key` que está no arquivo `apiKeys`, o valor do `BEARER_TOKEN` no arquivo `.env` será atribuido a varivel `bearer_token`. O Bearer Token será usado na autenticação da url que retorna os *trends* de um determinado pais.\n",
    "4. Para buscar o trending de um determinado pais iremos usar a url: https://api.twitter.com/1.1/trends/place.json\n",
    "5. Entretanto, devemos passar o parametro que no caso é o id de um pais.\n",
    "\n",
    "Fonte: https://developer.twitter.com/en/docs/twitter-api/v1/trends/trends-for-location/api-reference/get-trends-place"
   ]
  },
  {
   "cell_type": "code",
   "execution_count": 3,
   "id": "fba323d1",
   "metadata": {},
   "outputs": [],
   "source": [
    "countries = {}\n",
    "file = open(\"input/WOEID.txt\")\n",
    "countries = fd.dictionary(file, countries)\n",
    "\n",
    "bearer_token = api.key['bearer_token']\n",
    "\n",
    "search_url = \"https://api.twitter.com/1.1/trends/place.json\"\n",
    "\n",
    "query_params = {'id': countries['UNITED_STATES']}"
   ]
  },
  {
   "cell_type": "markdown",
   "id": "07c502be",
   "metadata": {},
   "source": [
    "Está função usa o *bearer token* para poder realizar a autenticação, por mais que não irá logar no **twitter** o *bearer token* \"representa uma autorização do Server emitida para o client. Por sua vez, o client deve possuir mecanismos próprios para identificar e validar o Token\".\n",
    "\n",
    "Fonte: [Bruno Brito](https://www.brunobrito.net.br/jwt-cookies-oauth-bearer/)."
   ]
  },
  {
   "cell_type": "code",
   "execution_count": 4,
   "id": "d987ee99",
   "metadata": {},
   "outputs": [],
   "source": [
    "def bearer_oauth(r):\n",
    "  '''\n",
    "  Autenticação usando o bearer token\n",
    "  '''\n",
    "  r.headers[\"Authorization\"] = f\"Bearer {bearer_token}\"\n",
    "  r.headers[\"User-Agent\"] = \"v2RecentSearchPython\"\n",
    "\n",
    "  return r"
   ]
  },
  {
   "cell_type": "markdown",
   "id": "bd5d169b",
   "metadata": {},
   "source": [
    "Usando a url e o parametros necessario, a função abaixo retorna um *response* no formato **json**. Veja onde a função `bearer_oauth` será usada.\n",
    "\n",
    "Fonte: https://github.com/twitterdev/Twitter-API-v2-sample-code/blob/main/Recent-Search/recent_search.py"
   ]
  },
  {
   "cell_type": "code",
   "execution_count": 5,
   "id": "b5bf454d",
   "metadata": {},
   "outputs": [],
   "source": [
    "def connect_to_endpoint(url, params):\n",
    "  '''\n",
    "  Se conecta a url dada com o parametros dado.\n",
    "  Consultar a documentação para saber o parametros nessario na pesquisa\n",
    "  '''\n",
    "  response = requests.get(url, auth=bearer_oauth, params=params)\n",
    "  print(response.status_code)\n",
    "  if response.status_code != 200:\n",
    "    raise Exception(response.status_code, response.text)\n",
    "        \n",
    "  return response.json()"
   ]
  },
  {
   "cell_type": "markdown",
   "id": "41b3e5ab",
   "metadata": {},
   "source": [
    "## Funcionalidade 2: Persistir os dados\n",
    "\n",
    "1. criar conexão com o banco, neste projeto usando o MongoDb\n",
    "2. Criar um banco chamado `tweets_db`\n",
    "3. Criar uma coleção chamada `top_trends`\n",
    "4. Inserir a *response* nesta coleção\n",
    "\n",
    "Fonte: https://pymongo.readthedocs.io/en/stable/tutorial.html"
   ]
  },
  {
   "cell_type": "markdown",
   "id": "641a2dd7",
   "metadata": {},
   "source": [
    "### Variaveis de Ambiente"
   ]
  },
  {
   "cell_type": "code",
   "execution_count": 6,
   "id": "fa4f2bd1",
   "metadata": {},
   "outputs": [],
   "source": [
    "username = mongoEnv.key_mongo['mongo_username']\n",
    "pwd = mongoEnv.key_mongo['mongo_password']"
   ]
  },
  {
   "cell_type": "markdown",
   "id": "56422932",
   "metadata": {},
   "source": [
    "### Conexão com banco de dados"
   ]
  },
  {
   "cell_type": "code",
   "execution_count": 7,
   "id": "b415f20c",
   "metadata": {},
   "outputs": [],
   "source": [
    "mongo_client = mongoDb.connect_to_mongo(username, pwd, '27017')"
   ]
  },
  {
   "cell_type": "markdown",
   "id": "2b1bd275",
   "metadata": {},
   "source": [
    "### Criação do Banco de Dados e a Coleção"
   ]
  },
  {
   "cell_type": "code",
   "execution_count": 8,
   "id": "406aa1f6",
   "metadata": {},
   "outputs": [],
   "source": [
    "database = mongoDb.create_db(mongo_client, 'tweets_db')\n",
    "collection = database['top_trends']"
   ]
  },
  {
   "cell_type": "markdown",
   "id": "99dc7de6",
   "metadata": {},
   "source": [
    "### Conectando ao Endpoint da Twitter API"
   ]
  },
  {
   "cell_type": "code",
   "execution_count": 9,
   "id": "ae211e5e",
   "metadata": {},
   "outputs": [
    {
     "name": "stdout",
     "output_type": "stream",
     "text": [
      "200\n"
     ]
    }
   ],
   "source": [
    "top_trends = connect_to_endpoint(search_url, query_params)"
   ]
  },
  {
   "cell_type": "markdown",
   "id": "6390e80d",
   "metadata": {},
   "source": [
    "### Persistindo os dados encontrado no Json\n",
    "Aqui eu decidi fazer um for para inserir um de cada vez, porém eu observei que só foi criado um unico documento, sendo que os top trendings é uma lista com os 50 top trendings da data atual."
   ]
  },
  {
   "cell_type": "code",
   "execution_count": 10,
   "id": "14504fbd",
   "metadata": {},
   "outputs": [],
   "source": [
    "for trend in top_trends:\n",
    "    trend_id = collection.insert_one(trend).inserted_id"
   ]
  },
  {
   "cell_type": "markdown",
   "id": "d0dc315a",
   "metadata": {},
   "source": [
    "### Procurando e Printando o primeiro documento"
   ]
  },
  {
   "cell_type": "code",
   "execution_count": 11,
   "id": "ea3ae00c",
   "metadata": {},
   "outputs": [
    {
     "name": "stdout",
     "output_type": "stream",
     "text": [
      "{'_id': ObjectId('6146357d5b64b034788268e7'),\n",
      " 'as_of': '2021-09-18T18:52:45Z',\n",
      " 'created_at': '2021-09-17T10:31:04Z',\n",
      " 'locations': [{'name': 'Brazil', 'woeid': 23424768}],\n",
      " 'trends': [{'name': 'O DIABO VEM HOJE',\n",
      "             'promoted_content': None,\n",
      "             'query': '%22O+DIABO+VEM+HOJE%22',\n",
      "             'tweet_volume': None,\n",
      "             'url': 'http://twitter.com/search?q=%22O+DIABO+VEM+HOJE%22'},\n",
      "            {'name': '#freebts',\n",
      "             'promoted_content': None,\n",
      "             'query': '%23freebts',\n",
      "             'tweet_volume': None,\n",
      "             'url': 'http://twitter.com/search?q=%23freebts'},\n",
      "            {'name': 'JULIETTE E CASANEM',\n",
      "             'promoted_content': None,\n",
      "             'query': '%22JULIETTE+E+CASANEM%22',\n",
      "             'tweet_volume': 12781,\n",
      "             'url': 'http://twitter.com/search?q=%22JULIETTE+E+CASANEM%22'},\n",
      "            {'name': 'ASSÉDIO NA RECORD',\n",
      "             'promoted_content': None,\n",
      "             'query': '%22ASS%C3%89DIO+NA+RECORD%22',\n",
      "             'tweet_volume': 101479,\n",
      "             'url': 'http://twitter.com/search?q=%22ASS%C3%89DIO+NA+RECORD%22'},\n",
      "            {'name': '#tindercactos',\n",
      "             'promoted_content': None,\n",
      "             'query': '%23tindercactos',\n",
      "             'tweet_volume': None,\n",
      "             'url': 'http://twitter.com/search?q=%23tindercactos'},\n",
      "            {'name': '#BatmanDay',\n",
      "             'promoted_content': None,\n",
      "             'query': '%23BatmanDay',\n",
      "             'tweet_volume': 78397,\n",
      "             'url': 'http://twitter.com/search?q=%23BatmanDay'},\n",
      "            {'name': 'Borel',\n",
      "             'promoted_content': None,\n",
      "             'query': 'Borel',\n",
      "             'tweet_volume': 151281,\n",
      "             'url': 'http://twitter.com/search?q=Borel'},\n",
      "            {'name': 'azealia',\n",
      "             'promoted_content': None,\n",
      "             'query': 'azealia',\n",
      "             'tweet_volume': None,\n",
      "             'url': 'http://twitter.com/search?q=azealia'},\n",
      "            {'name': 'Paulo Freire',\n",
      "             'promoted_content': None,\n",
      "             'query': '%22Paulo+Freire%22',\n",
      "             'tweet_volume': 43089,\n",
      "             'url': 'http://twitter.com/search?q=%22Paulo+Freire%22'},\n",
      "            {'name': '#LBFF',\n",
      "             'promoted_content': None,\n",
      "             'query': '%23LBFF',\n",
      "             'tweet_volume': None,\n",
      "             'url': 'http://twitter.com/search?q=%23LBFF'},\n",
      "            {'name': 'TAEL NA FAZENDA 13',\n",
      "             'promoted_content': None,\n",
      "             'query': '%22TAEL+NA+FAZENDA+13%22',\n",
      "             'tweet_volume': 10880,\n",
      "             'url': 'http://twitter.com/search?q=%22TAEL+NA+FAZENDA+13%22'},\n",
      "            {'name': 'Notting Hill',\n",
      "             'promoted_content': None,\n",
      "             'query': '%22Notting+Hill%22',\n",
      "             'tweet_volume': None,\n",
      "             'url': 'http://twitter.com/search?q=%22Notting+Hill%22'},\n",
      "            {'name': '#MaratonaCrepúsculoNoMegapix',\n",
      "             'promoted_content': None,\n",
      "             'query': '%23MaratonaCrep%C3%BAsculoNoMegapix',\n",
      "             'tweet_volume': None,\n",
      "             'url': 'http://twitter.com/search?q=%23MaratonaCrep%C3%BAsculoNoMegapix'},\n",
      "            {'name': 'Zinho',\n",
      "             'promoted_content': None,\n",
      "             'query': 'Zinho',\n",
      "             'tweet_volume': None,\n",
      "             'url': 'http://twitter.com/search?q=Zinho'},\n",
      "            {'name': 'Aston Villa',\n",
      "             'promoted_content': None,\n",
      "             'query': '%22Aston+Villa%22',\n",
      "             'tweet_volume': 11711,\n",
      "             'url': 'http://twitter.com/search?q=%22Aston+Villa%22'},\n",
      "            {'name': 'Grim',\n",
      "             'promoted_content': None,\n",
      "             'query': 'Grim',\n",
      "             'tweet_volume': 13835,\n",
      "             'url': 'http://twitter.com/search?q=Grim'},\n",
      "            {'name': 'Keita',\n",
      "             'promoted_content': None,\n",
      "             'query': 'Keita',\n",
      "             'tweet_volume': 24886,\n",
      "             'url': 'http://twitter.com/search?q=Keita'},\n",
      "            {'name': 'Kubiak',\n",
      "             'promoted_content': None,\n",
      "             'query': 'Kubiak',\n",
      "             'tweet_volume': None,\n",
      "             'url': 'http://twitter.com/search?q=Kubiak'},\n",
      "            {'name': 'Paulo Coelho',\n",
      "             'promoted_content': None,\n",
      "             'query': '%22Paulo+Coelho%22',\n",
      "             'tweet_volume': None,\n",
      "             'url': 'http://twitter.com/search?q=%22Paulo+Coelho%22'},\n",
      "            {'name': 'Liquid',\n",
      "             'promoted_content': None,\n",
      "             'query': 'Liquid',\n",
      "             'tweet_volume': 15198,\n",
      "             'url': 'http://twitter.com/search?q=Liquid'},\n",
      "            {'name': 'Eslovênia',\n",
      "             'promoted_content': None,\n",
      "             'query': 'Eslov%C3%AAnia',\n",
      "             'tweet_volume': None,\n",
      "             'url': 'http://twitter.com/search?q=Eslov%C3%AAnia'},\n",
      "            {'name': 'VAMOS FLUXO',\n",
      "             'promoted_content': None,\n",
      "             'query': '%22VAMOS+FLUXO%22',\n",
      "             'tweet_volume': None,\n",
      "             'url': 'http://twitter.com/search?q=%22VAMOS+FLUXO%22'},\n",
      "            {'name': 'Bologna',\n",
      "             'promoted_content': None,\n",
      "             'query': 'Bologna',\n",
      "             'tweet_volume': 13676,\n",
      "             'url': 'http://twitter.com/search?q=Bologna'},\n",
      "            {'name': 'stewie',\n",
      "             'promoted_content': None,\n",
      "             'query': 'stewie',\n",
      "             'tweet_volume': None,\n",
      "             'url': 'http://twitter.com/search?q=stewie'},\n",
      "            {'name': 'Polônia',\n",
      "             'promoted_content': None,\n",
      "             'query': 'Pol%C3%B4nia',\n",
      "             'tweet_volume': None,\n",
      "             'url': 'http://twitter.com/search?q=Pol%C3%B4nia'},\n",
      "            {'name': 'KOKO',\n",
      "             'promoted_content': None,\n",
      "             'query': 'KOKO',\n",
      "             'tweet_volume': 34258,\n",
      "             'url': 'http://twitter.com/search?q=KOKO'},\n",
      "            {'name': 'TIKTOK APOIA ASSÉDIO',\n",
      "             'promoted_content': None,\n",
      "             'query': '%22TIKTOK+APOIA+ASS%C3%89DIO%22',\n",
      "             'tweet_volume': 12825,\n",
      "             'url': 'http://twitter.com/search?q=%22TIKTOK+APOIA+ASS%C3%89DIO%22'},\n",
      "            {'name': 'Liverpool',\n",
      "             'promoted_content': None,\n",
      "             'query': 'Liverpool',\n",
      "             'tweet_volume': 92859,\n",
      "             'url': 'http://twitter.com/search?q=Liverpool'},\n",
      "            {'name': 'EU NUNCA VOU TE ABANDONAR',\n",
      "             'promoted_content': None,\n",
      "             'query': '%22EU+NUNCA+VOU+TE+ABANDONAR%22',\n",
      "             'tweet_volume': None,\n",
      "             'url': 'http://twitter.com/search?q=%22EU+NUNCA+VOU+TE+ABANDONAR%22'},\n",
      "            {'name': 'Paraná Clube',\n",
      "             'promoted_content': None,\n",
      "             'query': '%22Paran%C3%A1+Clube%22',\n",
      "             'tweet_volume': None,\n",
      "             'url': 'http://twitter.com/search?q=%22Paran%C3%A1+Clube%22'},\n",
      "            {'name': 'Força Ratão',\n",
      "             'promoted_content': None,\n",
      "             'query': '%22For%C3%A7a+Rat%C3%A3o%22',\n",
      "             'tweet_volume': None,\n",
      "             'url': 'http://twitter.com/search?q=%22For%C3%A7a+Rat%C3%A3o%22'},\n",
      "            {'name': '13x0',\n",
      "             'promoted_content': None,\n",
      "             'query': '13x0',\n",
      "             'tweet_volume': None,\n",
      "             'url': 'http://twitter.com/search?q=13x0'},\n",
      "            {'name': 'Bundesliga',\n",
      "             'promoted_content': None,\n",
      "             'query': 'Bundesliga',\n",
      "             'tweet_volume': 19255,\n",
      "             'url': 'http://twitter.com/search?q=Bundesliga'},\n",
      "            {'name': 'hugh grant',\n",
      "             'promoted_content': None,\n",
      "             'query': '%22hugh+grant%22',\n",
      "             'tweet_volume': None,\n",
      "             'url': 'http://twitter.com/search?q=%22hugh+grant%22'},\n",
      "            {'name': 'Julia Roberts',\n",
      "             'promoted_content': None,\n",
      "             'query': '%22Julia+Roberts%22',\n",
      "             'tweet_volume': None,\n",
      "             'url': 'http://twitter.com/search?q=%22Julia+Roberts%22'},\n",
      "            {'name': 'INUI',\n",
      "             'promoted_content': None,\n",
      "             'query': 'INUI',\n",
      "             'tweet_volume': None,\n",
      "             'url': 'http://twitter.com/search?q=INUI'},\n",
      "            {'name': 'Dzeko',\n",
      "             'promoted_content': None,\n",
      "             'query': 'Dzeko',\n",
      "             'tweet_volume': None,\n",
      "             'url': 'http://twitter.com/search?q=Dzeko'},\n",
      "            {'name': 'Arsenal',\n",
      "             'promoted_content': None,\n",
      "             'query': 'Arsenal',\n",
      "             'tweet_volume': 137410,\n",
      "             'url': 'http://twitter.com/search?q=Arsenal'},\n",
      "            {'name': 'Astralis',\n",
      "             'promoted_content': None,\n",
      "             'query': 'Astralis',\n",
      "             'tweet_volume': None,\n",
      "             'url': 'http://twitter.com/search?q=Astralis'},\n",
      "            {'name': 'Crystal Palace',\n",
      "             'promoted_content': None,\n",
      "             'query': '%22Crystal+Palace%22',\n",
      "             'tweet_volume': 28577,\n",
      "             'url': 'http://twitter.com/search?q=%22Crystal+Palace%22'},\n",
      "            {'name': 'Rodrigo Muniz',\n",
      "             'promoted_content': None,\n",
      "             'query': '%22Rodrigo+Muniz%22',\n",
      "             'tweet_volume': None,\n",
      "             'url': 'http://twitter.com/search?q=%22Rodrigo+Muniz%22'},\n",
      "            {'name': 'ONE YEAR OF HEAVEN & HELL',\n",
      "             'promoted_content': None,\n",
      "             'query': '%22ONE+YEAR+OF+HEAVEN+%26+HELL%22',\n",
      "             'tweet_volume': None,\n",
      "             'url': 'http://twitter.com/search?q=%22ONE+YEAR+OF+HEAVEN+%26+HELL%22'},\n",
      "            {'name': 'agostinho carrara',\n",
      "             'promoted_content': None,\n",
      "             'query': '%22agostinho+carrara%22',\n",
      "             'tweet_volume': None,\n",
      "             'url': 'http://twitter.com/search?q=%22agostinho+carrara%22'},\n",
      "            {'name': 'Ana Paula',\n",
      "             'promoted_content': None,\n",
      "             'query': '%22Ana+Paula%22',\n",
      "             'tweet_volume': 10287,\n",
      "             'url': 'http://twitter.com/search?q=%22Ana+Paula%22'},\n",
      "            {'name': 'Sterling',\n",
      "             'promoted_content': None,\n",
      "             'query': 'Sterling',\n",
      "             'tweet_volume': 31709,\n",
      "             'url': 'http://twitter.com/search?q=Sterling'},\n",
      "            {'name': 'nAts',\n",
      "             'promoted_content': None,\n",
      "             'query': 'nAts',\n",
      "             'tweet_volume': 40110,\n",
      "             'url': 'http://twitter.com/search?q=nAts'},\n",
      "            {'name': 'Tays Reis',\n",
      "             'promoted_content': None,\n",
      "             'query': '%22Tays+Reis%22',\n",
      "             'tweet_volume': None,\n",
      "             'url': 'http://twitter.com/search?q=%22Tays+Reis%22'},\n",
      "            {'name': 'ELEVADOR CAMILA LOURES',\n",
      "             'promoted_content': None,\n",
      "             'query': '%22ELEVADOR+CAMILA+LOURES%22',\n",
      "             'tweet_volume': 11414,\n",
      "             'url': 'http://twitter.com/search?q=%22ELEVADOR+CAMILA+LOURES%22'},\n"
     ]
    },
    {
     "name": "stdout",
     "output_type": "stream",
     "text": [
      "            {'name': 'NÃO É NÃO',\n",
      "             'promoted_content': None,\n",
      "             'query': '%22N%C3%83O+%C3%89+N%C3%83O%22',\n",
      "             'tweet_volume': 1377762,\n",
      "             'url': 'http://twitter.com/search?q=%22N%C3%83O+%C3%89+N%C3%83O%22'},\n",
      "            {'name': 'MORE PROMOTIONS FOR LISA',\n",
      "             'promoted_content': None,\n",
      "             'query': '%22MORE+PROMOTIONS+FOR+LISA%22',\n",
      "             'tweet_volume': 516742,\n",
      "             'url': 'http://twitter.com/search?q=%22MORE+PROMOTIONS+FOR+LISA%22'}]}\n"
     ]
    }
   ],
   "source": [
    "pprint.pprint(collection.find_one())"
   ]
  },
  {
   "cell_type": "markdown",
   "id": "e7c7c903",
   "metadata": {},
   "source": [
    "### Printando o nome da coleção criada no banco de dados"
   ]
  },
  {
   "cell_type": "code",
   "execution_count": 12,
   "id": "e305d30e",
   "metadata": {},
   "outputs": [
    {
     "data": {
      "text/plain": [
       "['top_trends']"
      ]
     },
     "execution_count": 12,
     "metadata": {},
     "output_type": "execute_result"
    }
   ],
   "source": [
    "database.list_collection_names()"
   ]
  },
  {
   "cell_type": "code",
   "execution_count": null,
   "id": "3ab7c0b5",
   "metadata": {},
   "outputs": [],
   "source": []
  }
 ],
 "metadata": {
  "interpreter": {
   "hash": "eb55d2a687cf553baad710d12a0de64b639405cf57588a43ad5f6933c4daf7cb"
  },
  "kernelspec": {
   "display_name": "Python 3",
   "language": "python",
   "name": "python3"
  },
  "language_info": {
   "codemirror_mode": {
    "name": "ipython",
    "version": 3
   },
   "file_extension": ".py",
   "mimetype": "text/x-python",
   "name": "python",
   "nbconvert_exporter": "python",
   "pygments_lexer": "ipython3",
   "version": "3.8.8"
  }
 },
 "nbformat": 4,
 "nbformat_minor": 5
}
