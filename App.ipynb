{
 "cells": [
  {
   "cell_type": "markdown",
   "id": "bd956a0d",
   "metadata": {},
   "source": [
    "# Top Trendings do Twitter\n",
    "**Objetivos:** Desenvolver uma aplicação para monitorar o top trending e seu devido volume na rede social com o passar do tempo.\n",
    "\n",
    "## Funcionalidades\n",
    "**Requisitos funcionais obrigatorios**:\n",
    "- [x] Utilizar a api do twitter para consumir o top trending e seu devido volume.\n",
    "- [ ] Armazenar o histórico das trendings em um banco de dados noSQL.\n",
    "- [ ] Utilizar alguma biblioteca gráfica para exibir os dados.\n",
    "**Requisito funcional opcional**:\n",
    "- [ ] Utilizar IA para análise de sentimento dos tweets referentes aos top trendings"
   ]
  },
  {
   "cell_type": "markdown",
   "id": "e4596a3e",
   "metadata": {},
   "source": [
    "### Instação das Bibliotecas\n",
    "Para instalar as bibliotecas, será usado um arquivo de texto com todas as dependências necessarias para este projeto funcionar."
   ]
  },
  {
   "cell_type": "code",
   "execution_count": null,
   "id": "293b44bc",
   "metadata": {},
   "outputs": [],
   "source": [
    "! python -m pip install -r requirements.txt"
   ]
  },
  {
   "cell_type": "markdown",
   "id": "d1373a63",
   "metadata": {},
   "source": [
    "### Imports"
   ]
  },
  {
   "cell_type": "code",
   "execution_count": null,
   "id": "28adb29c",
   "metadata": {},
   "outputs": [],
   "source": [
    "import json\n",
    "\n",
    "import requests\n",
    "\n",
    "from modules import mongoDb\n",
    "from modules import fileToDic as fd\n",
    "from modules import apiKeys as api"
   ]
  },
  {
   "cell_type": "markdown",
   "id": "23495330",
   "metadata": {},
   "source": [
    "## Funcionalidade 1: Consome o top trending e seu devido volume.\n",
    "\n",
    "1. Abrir o arquivo `WOEID.txt` para poder ler os paises e seu identificadores.\n",
    "2. Usando a função `dictionary` que esta no arquivo `fileToDic`, o arquivo com os paises e seus respectivos valores serão convertidos em dicionario.\n",
    "3. Usando o dicionario `key` que está no arquivo `apiKeys`, o valor do `BEARER_TOKEN` no arquivo `.env` será atribuido a varivel `bearer_token`. O Bearer Token será usado na autenticação da url que retorna os *trends* de um determinado pais.\n",
    "4. Para buscar o trending de um determinado pais iremos usar a url: https://api.twitter.com/1.1/trends/place.json\n",
    "5. Entretanto, devemos passar o parametro que no caso é o id de um pais."
   ]
  },
  {
   "cell_type": "code",
   "execution_count": null,
   "id": "fba323d1",
   "metadata": {},
   "outputs": [],
   "source": [
    "countries = {}\n",
    "file = open(\"input/WOEID.txt\")\n",
    "countries = fd.dictionary(file, countries)\n",
    "\n",
    "bearer_token = api.key['bearer_token']\n",
    "\n",
    "search_url = \"https://api.twitter.com/1.1/trends/place.json\"\n",
    "\n",
    "query_params = {'id': countries['BRAZIL']}"
   ]
  },
  {
   "cell_type": "markdown",
   "id": "aa692584",
   "metadata": {},
   "source": [
    "Está função usa o *bearer token* para poder realizar a autenticação, por mais que não irá logar no **twitter** o *bearer token* \"representa uma autorização do Server emitida para o client. Por sua vez, o client deve possuir mecanismos próprios para identificar e validar o Token\".\n",
    "\n",
    "Fonte: [Bruno Brito](https://www.brunobrito.net.br/jwt-cookies-oauth-bearer/)."
   ]
  },
  {
   "cell_type": "code",
   "execution_count": null,
   "id": "b382644b",
   "metadata": {},
   "outputs": [],
   "source": [
    "def bearer_oauth(r):\n",
    "  '''\n",
    "  Autenticação usando o bearer token\n",
    "  '''\n",
    "  r.headers[\"Authorization\"] = f\"Bearer {bearer_token}\"\n",
    "  r.headers[\"User-Agent\"] = \"v2RecentSearchPython\"\n",
    "\n",
    "  return r"
   ]
  },
  {
   "cell_type": "markdown",
   "id": "cf72db4a",
   "metadata": {},
   "source": [
    "Usando a url e o parametros necessario, a função abaixo retorna um *response* no formato **json**. Veja onde a função `bearer_oauth` será usada."
   ]
  },
  {
   "cell_type": "code",
   "execution_count": null,
   "id": "5da45848",
   "metadata": {},
   "outputs": [],
   "source": [
    "def connect_to_endpoint(url, params):\n",
    "  '''\n",
    "  Se conecta a url dada com o parametros dado.\n",
    "  Consultar a documentação para saber o parametros nessario na pesquisa\n",
    "  '''\n",
    "  response = requests.get(url, auth=bearer_oauth, params=params)\n",
    "  print(response.status_code)\n",
    "  if response.status_code != 200:\n",
    "    raise Exception(response.status_code, response.text)\n",
    "        \n",
    "  return response.json()"
   ]
  },
  {
   "cell_type": "markdown",
   "id": "e8275aed",
   "metadata": {},
   "source": [
    "Pois fim, a *response* será \"printada\"."
   ]
  },
  {
   "cell_type": "code",
   "execution_count": null,
   "id": "7db85f38",
   "metadata": {},
   "outputs": [],
   "source": [
    "json_response = connect_to_endpoint(search_url, query_params)\n",
    "print(json.dumps(json_response, indent=4, sort_keys=True))"
   ]
  },
  {
   "cell_type": "code",
   "execution_count": null,
   "id": "67f46e55",
   "metadata": {},
   "outputs": [],
   "source": []
  }
 ],
 "metadata": {
  "interpreter": {
   "hash": "eb55d2a687cf553baad710d12a0de64b639405cf57588a43ad5f6933c4daf7cb"
  },
  "kernelspec": {
   "display_name": "Python 3",
   "language": "python",
   "name": "python3"
  },
  "language_info": {
   "codemirror_mode": {
    "name": "ipython",
    "version": 3
   },
   "file_extension": ".py",
   "mimetype": "text/x-python",
   "name": "python",
   "nbconvert_exporter": "python",
   "pygments_lexer": "ipython3",
   "version": "3.8.8"
  }
 },
 "nbformat": 4,
 "nbformat_minor": 5
}
