{
 "cells": [
  {
   "cell_type": "markdown",
   "id": "8d669b85",
   "metadata": {},
   "source": [
    "# Top Trendings do Twitter\n",
    "**Objetivos:** Desenvolver uma aplicação para monitorar o top trending e seu devido volume na rede social com o passar do tempo.\n",
    "\n",
    "## Funcionalidades\n",
    "**Requisitos funcionais obrigatorios**:\n",
    "- [X] Utilizar a api do twitter para consumir o top trending e seu devido volume.\n",
    "- [X] Armazenar o histórico das trendings em um banco de dados noSQL.\n",
    "- [X] Utilizar alguma biblioteca gráfica para exibir os dados.\n",
    "\n",
    "**Requisito funcional opcional**:\n",
    "- [X] Utilizar IA para análise de sentimento dos tweets referentes aos top trendings"
   ]
  },
  {
   "cell_type": "markdown",
   "id": "3e65a7d2",
   "metadata": {},
   "source": [
    "### Instação das Bibliotecas\n",
    "Para instalar as bibliotecas, será usado um arquivo de texto com todas as dependências necessarias para este projeto funcionar."
   ]
  },
  {
   "cell_type": "code",
   "execution_count": null,
   "id": "3906962b",
   "metadata": {},
   "outputs": [],
   "source": [
    "! python -m pip install -r requirements.txt"
   ]
  },
  {
   "cell_type": "markdown",
   "id": "62fd8efe",
   "metadata": {},
   "source": [
    "### Imports"
   ]
  },
  {
   "cell_type": "code",
   "execution_count": 1,
   "id": "f52662b2",
   "metadata": {},
   "outputs": [],
   "source": [
    "import pprint\n",
    "\n",
    "import pandas as pd\n",
    "import numpy as np\n",
    "import matplotlib.pyplot as plt\n",
    "\n",
    "from modules import mongoDb\n",
    "from modules import fileToDic as fd\n",
    "from modules import apiKeys as api\n",
    "from modules import mongoEnv\n",
    "from modules import TwitterClient as tc\n",
    "from modules import TwitterAuth as ta"
   ]
  },
  {
   "cell_type": "markdown",
   "id": "a64af364",
   "metadata": {},
   "source": [
    "## Funcionalidade 1: Consome o top trending e seu devido volume.\n",
    "\n",
    "1. Abrir o arquivo `WOEID.txt` para poder ler os paises e seu identificadores.\n",
    "2. Usando a função `dictionary` que esta no arquivo `fileToDic`, o arquivo com os paises e seus respectivos valores serão convertidos em dicionario.\n",
    "3. Usando o dicionario `key` que está no arquivo `apiKeys`, o valor do `BEARER_TOKEN` no arquivo `.env` será atribuido a varivel `bearer_token`. O Bearer Token será usado na autenticação da url que retorna os *trends* de um determinado pais.\n",
    "4. Para buscar o trending de um determinado pais iremos usar a url: https://api.twitter.com/1.1/trends/place.json\n",
    "5. Entretanto, devemos passar o parametro que no caso é o id de um pais.\n",
    "\n",
    "Fonte: https://developer.twitter.com/en/docs/twitter-api/v1/trends/trends-for-location/api-reference/get-trends-place"
   ]
  },
  {
   "cell_type": "code",
   "execution_count": 2,
   "id": "0c23ef47",
   "metadata": {},
   "outputs": [],
   "source": [
    "countries = {}\n",
    "file = open(\"input/WOEID.txt\")\n",
    "countries = fd.dictionary(file, countries)\n",
    "\n",
    "consumer_key = api.key['consumer_key']\n",
    "consumer_secret = api.key['consumer_secret']\n",
    "access_token = api.key['access_token']\n",
    "access_token_secret = api.key['access_token_secret']\n",
    "bearer_token = api.key['bearer_token']\n",
    "\n",
    "search_url = \"https://api.twitter.com/1.1/trends/place.json\"\n",
    "\n",
    "query_params = {'id': countries['BRAZIL'], 'exclude': 'hashtags'}"
   ]
  },
  {
   "cell_type": "markdown",
   "id": "0490a496",
   "metadata": {},
   "source": [
    "### Realizando a Pesquisa no Trend Tops\n",
    "Dado um pais iremos procurar na url da Twitter API os top trending desse pais. No arquivo `WOEID.txt`, estão alguns pais para serem usado na pesquisa, contudo basta mudar a chave do dicionario `countries`, ex.: `countries['UNITED_STATES']`; `countries['AUSTRALIA']`; `countries['UNITED_KINGDOM']`; `countries['INDIA']`, ec.\n",
    "\n",
    "A classe `TwitterAuth` recebe no construtor o `bearer_token` para poder colocar o seu valor no *Header Authorization* e depois a função `connect_to_endpoint` realiza o `GET` na url dada, usando os paramêtros dado. Por fim, um `json` é retornado "
   ]
  },
  {
   "cell_type": "code",
   "execution_count": 3,
   "id": "ccecc7b1",
   "metadata": {},
   "outputs": [
    {
     "name": "stdout",
     "output_type": "stream",
     "text": [
      "200\n",
      "[{'trends': [{'name': 'ios 15', 'url': 'http://twitter.com/search?q=%22ios+15%22', 'promoted_content': None, 'query': '%22ios+15%22', 'tweet_volume': 293937}, {'name': 'pabllo', 'url': 'http://twitter.com/search?q=pabllo', 'promoted_content': None, 'query': 'pabllo', 'tweet_volume': 123845}, {'name': 'zara', 'url': 'http://twitter.com/search?q=zara', 'promoted_content': None, 'query': 'zara', 'tweet_volume': 42467}, {'name': 'respect for dayane', 'url': 'http://twitter.com/search?q=%22respect+for+dayane%22', 'promoted_content': None, 'query': '%22respect+for+dayane%22', 'tweet_volume': 44695}, {'name': 'mete', 'url': 'http://twitter.com/search?q=mete', 'promoted_content': None, 'query': 'mete', 'tweet_volume': 32026}], 'as_of': '2021-09-21T13:52:53Z', 'created_at': '2021-09-20T00:36:50Z', 'locations': [{'name': 'Brazil', 'woeid': 23424768}]}]\n"
     ]
    }
   ],
   "source": [
    "oauth = ta.TwitterAuth(bearer_token)\n",
    "top_trends = oauth.connect_to_endpoint(search_url, query_params)\n",
    "print(top_trends)"
   ]
  },
  {
   "cell_type": "markdown",
   "id": "2bac6086",
   "metadata": {},
   "source": [
    "## Funcionalidade 2: Persistir os dados\n",
    "\n",
    "1. criar conexão com o banco, neste projeto usando o MongoDb\n",
    "2. Criar um banco chamado `tweets_db`\n",
    "3. Criar uma coleção chamada `top_trends`\n",
    "4. Inserir a *response* nesta coleção\n",
    "\n",
    "Fonte: https://pymongo.readthedocs.io/en/stable/tutorial.html"
   ]
  },
  {
   "cell_type": "markdown",
   "id": "1992711c",
   "metadata": {},
   "source": [
    "### Variaveis de Ambiente"
   ]
  },
  {
   "cell_type": "code",
   "execution_count": 4,
   "id": "951beb53",
   "metadata": {},
   "outputs": [],
   "source": [
    "username = mongoEnv.key_mongo['mongo_username']\n",
    "pwd = mongoEnv.key_mongo['mongo_password']"
   ]
  },
  {
   "cell_type": "markdown",
   "id": "03ac57b2",
   "metadata": {},
   "source": [
    "### Conexão com banco de dados"
   ]
  },
  {
   "cell_type": "code",
   "execution_count": 5,
   "id": "21b46961",
   "metadata": {},
   "outputs": [],
   "source": [
    "mongo_client = mongoDb.connect_to_mongo(username, pwd, '27017')"
   ]
  },
  {
   "cell_type": "markdown",
   "id": "79eb7445",
   "metadata": {},
   "source": [
    "### Criação do Banco de Dados e a Coleção"
   ]
  },
  {
   "cell_type": "code",
   "execution_count": 6,
   "id": "8428b418",
   "metadata": {},
   "outputs": [],
   "source": [
    "database = mongoDb.create_db(mongo_client, 'tweets_db')\n",
    "collection = database['top_trends']"
   ]
  },
  {
   "cell_type": "markdown",
   "id": "2590b1c2",
   "metadata": {},
   "source": [
    "### Persistindo os dados encontrado no Json\n",
    "Aqui eu decidi fazer um for para inserir um de cada vez, porém eu observei que só foi criado um unico documento, sendo que os top trendings é uma lista com os 50 top trendings da data atual."
   ]
  },
  {
   "cell_type": "code",
   "execution_count": 7,
   "id": "05b70c5b",
   "metadata": {},
   "outputs": [],
   "source": [
    "for trend in top_trends:\n",
    "    trend_id = collection.insert_one(trend).inserted_id"
   ]
  },
  {
   "cell_type": "markdown",
   "id": "052e6bdc",
   "metadata": {},
   "source": [
    "### Procurando e Printando o primeiro documento"
   ]
  },
  {
   "cell_type": "code",
   "execution_count": 8,
   "id": "2d6d1dc1",
   "metadata": {},
   "outputs": [
    {
     "name": "stdout",
     "output_type": "stream",
     "text": [
      "{'_id': ObjectId('6147193c5b64b01e186febf6'),\n",
      " 'as_of': '2021-09-19T11:04:28Z',\n",
      " 'created_at': '2021-09-15T02:00:22Z',\n",
      " 'locations': [{'name': 'Brazil', 'woeid': 23424768}],\n",
      " 'trends': [{'name': '#Calamidade',\n",
      "             'promoted_content': None,\n",
      "             'query': '%23Calamidade',\n",
      "             'tweet_volume': 286336,\n",
      "             'url': 'http://twitter.com/search?q=%23Calamidade'},\n",
      "            {'name': 'Otis',\n",
      "             'promoted_content': None,\n",
      "             'query': 'Otis',\n",
      "             'tweet_volume': 59009,\n",
      "             'url': 'http://twitter.com/search?q=Otis'},\n",
      "            {'name': 'Paulo Freire',\n",
      "             'promoted_content': None,\n",
      "             'query': '%22Paulo+Freire%22',\n",
      "             'tweet_volume': 43627,\n",
      "             'url': 'http://twitter.com/search?q=%22Paulo+Freire%22'},\n",
      "            {'name': 'juliette no altas horas',\n",
      "             'promoted_content': None,\n",
      "             'query': '%22juliette+no+altas+horas%22',\n",
      "             'tweet_volume': 84069,\n",
      "             'url': 'http://twitter.com/search?q=%22juliette+no+altas+horas%22'},\n",
      "            {'name': 'Borel',\n",
      "             'promoted_content': None,\n",
      "             'query': 'Borel',\n",
      "             'tweet_volume': 170407,\n",
      "             'url': 'http://twitter.com/search?q=Borel'},\n",
      "            {'name': 'Maeve',\n",
      "             'promoted_content': None,\n",
      "             'query': 'Maeve',\n",
      "             'tweet_volume': 35146,\n",
      "             'url': 'http://twitter.com/search?q=Maeve'},\n",
      "            {'name': 'Kian',\n",
      "             'promoted_content': None,\n",
      "             'query': 'Kian',\n",
      "             'tweet_volume': 33860,\n",
      "             'url': 'http://twitter.com/search?q=Kian'},\n",
      "            {'name': 'Eric',\n",
      "             'promoted_content': None,\n",
      "             'query': 'Eric',\n",
      "             'tweet_volume': 94529,\n",
      "             'url': 'http://twitter.com/search?q=Eric'},\n",
      "            {'name': 'Dynho',\n",
      "             'promoted_content': None,\n",
      "             'query': 'Dynho',\n",
      "             'tweet_volume': 60318,\n",
      "             'url': 'http://twitter.com/search?q=Dynho'},\n",
      "            {'name': '#ColdplayXBTSisComing',\n",
      "             'promoted_content': None,\n",
      "             'query': '%23ColdplayXBTSisComing',\n",
      "             'tweet_volume': 34881,\n",
      "             'url': 'http://twitter.com/search?q=%23ColdplayXBTSisComing'},\n",
      "            {'name': 'Arana',\n",
      "             'promoted_content': None,\n",
      "             'query': 'Arana',\n",
      "             'tweet_volume': 19928,\n",
      "             'url': 'http://twitter.com/search?q=Arana'},\n",
      "            {'name': '#BORUTO',\n",
      "             'promoted_content': None,\n",
      "             'query': '%23BORUTO',\n",
      "             'tweet_volume': 12562,\n",
      "             'url': 'http://twitter.com/search?q=%23BORUTO'},\n",
      "            {'name': '#MyUniverseIsComing',\n",
      "             'promoted_content': None,\n",
      "             'query': '%23MyUniverseIsComing',\n",
      "             'tweet_volume': 34196,\n",
      "             'url': 'http://twitter.com/search?q=%23MyUniverseIsComing'},\n",
      "            {'name': 'Nego',\n",
      "             'promoted_content': None,\n",
      "             'query': 'Nego',\n",
      "             'tweet_volume': 209488,\n",
      "             'url': 'http://twitter.com/search?q=Nego'},\n",
      "            {'name': 'o diabo vem hoje',\n",
      "             'promoted_content': None,\n",
      "             'query': '%22o+diabo+vem+hoje%22',\n",
      "             'tweet_volume': 12935,\n",
      "             'url': 'http://twitter.com/search?q=%22o+diabo+vem+hoje%22'},\n",
      "            {'name': '#BatmanDay',\n",
      "             'promoted_content': None,\n",
      "             'query': '%23BatmanDay',\n",
      "             'tweet_volume': 171169,\n",
      "             'url': 'http://twitter.com/search?q=%23BatmanDay'},\n",
      "            {'name': 'ASSÉDIO NA RECORD',\n",
      "             'promoted_content': None,\n",
      "             'query': '%22ASS%C3%89DIO+NA+RECORD%22',\n",
      "             'tweet_volume': 125065,\n",
      "             'url': 'http://twitter.com/search?q=%22ASS%C3%89DIO+NA+RECORD%22'},\n",
      "            {'name': 'Joui',\n",
      "             'promoted_content': None,\n",
      "             'query': 'Joui',\n",
      "             'tweet_volume': 79202,\n",
      "             'url': 'http://twitter.com/search?q=Joui'},\n",
      "            {'name': 'Botafogo',\n",
      "             'promoted_content': None,\n",
      "             'query': 'Botafogo',\n",
      "             'tweet_volume': 44984,\n",
      "             'url': 'http://twitter.com/search?q=Botafogo'},\n",
      "            {'name': 'HAVE A SAFE FLIGHT',\n",
      "             'promoted_content': None,\n",
      "             'query': '%22HAVE+A+SAFE+FLIGHT%22',\n",
      "             'tweet_volume': 357903,\n",
      "             'url': 'http://twitter.com/search?q=%22HAVE+A+SAFE+FLIGHT%22'},\n",
      "            {'name': 'triz',\n",
      "             'promoted_content': None,\n",
      "             'query': 'triz',\n",
      "             'tweet_volume': 21454,\n",
      "             'url': 'http://twitter.com/search?q=triz'},\n",
      "            {'name': 'Diego Costa',\n",
      "             'promoted_content': None,\n",
      "             'query': '%22Diego+Costa%22',\n",
      "             'tweet_volume': 11812,\n",
      "             'url': 'http://twitter.com/search?q=%22Diego+Costa%22'},\n",
      "            {'name': 'marinho',\n",
      "             'promoted_content': None,\n",
      "             'query': 'marinho',\n",
      "             'tweet_volume': None,\n",
      "             'url': 'http://twitter.com/search?q=marinho'},\n",
      "            {'name': 'Azealia',\n",
      "             'promoted_content': None,\n",
      "             'query': 'Azealia',\n",
      "             'tweet_volume': 11006,\n",
      "             'url': 'http://twitter.com/search?q=Azealia'},\n",
      "            {'name': 'Vargas',\n",
      "             'promoted_content': None,\n",
      "             'query': 'Vargas',\n",
      "             'tweet_volume': 16054,\n",
      "             'url': 'http://twitter.com/search?q=Vargas'},\n",
      "            {'name': 'BDAY DO GALEGUIN',\n",
      "             'promoted_content': None,\n",
      "             'query': '%22BDAY+DO+GALEGUIN%22',\n",
      "             'tweet_volume': None,\n",
      "             'url': 'http://twitter.com/search?q=%22BDAY+DO+GALEGUIN%22'},\n",
      "            {'name': 'Datafolha',\n",
      "             'promoted_content': None,\n",
      "             'query': 'Datafolha',\n",
      "             'tweet_volume': 17455,\n",
      "             'url': 'http://twitter.com/search?q=Datafolha'},\n",
      "            {'name': 'Paulinho',\n",
      "             'promoted_content': None,\n",
      "             'query': 'Paulinho',\n",
      "             'tweet_volume': None,\n",
      "             'url': 'http://twitter.com/search?q=Paulinho'},\n",
      "            {'name': 'PROUD OF YOU LALISA',\n",
      "             'promoted_content': None,\n",
      "             'query': '%22PROUD+OF+YOU+LALISA%22',\n",
      "             'tweet_volume': 214182,\n",
      "             'url': 'http://twitter.com/search?q=%22PROUD+OF+YOU+LALISA%22'},\n",
      "            {'name': 'SVT NOSTALGIC CONCERTS',\n",
      "             'promoted_content': None,\n",
      "             'query': '%22SVT+NOSTALGIC+CONCERTS%22',\n",
      "             'tweet_volume': 37033,\n",
      "             'url': 'http://twitter.com/search?q=%22SVT+NOSTALGIC+CONCERTS%22'},\n",
      "            {'name': 'Montero',\n",
      "             'promoted_content': None,\n",
      "             'query': 'Montero',\n",
      "             'tweet_volume': 77546,\n",
      "             'url': 'http://twitter.com/search?q=Montero'},\n",
      "            {'name': 'Navarro',\n",
      "             'promoted_content': None,\n",
      "             'query': 'Navarro',\n",
      "             'tweet_volume': 15588,\n",
      "             'url': 'http://twitter.com/search?q=Navarro'},\n",
      "            {'name': 'Keno',\n",
      "             'promoted_content': None,\n",
      "             'query': 'Keno',\n",
      "             'tweet_volume': None,\n",
      "             'url': 'http://twitter.com/search?q=Keno'},\n",
      "            {'name': 'Dayane',\n",
      "             'promoted_content': None,\n",
      "             'query': 'Dayane',\n",
      "             'tweet_volume': 91697,\n",
      "             'url': 'http://twitter.com/search?q=Dayane'},\n",
      "            {'name': 'Aimee',\n",
      "             'promoted_content': None,\n",
      "             'query': 'Aimee',\n",
      "             'tweet_volume': 13605,\n",
      "             'url': 'http://twitter.com/search?q=Aimee'},\n",
      "            {'name': 'T-BAG',\n",
      "             'promoted_content': None,\n",
      "             'query': 'T-BAG',\n",
      "             'tweet_volume': None,\n",
      "             'url': 'http://twitter.com/search?q=T-BAG'},\n",
      "            {'name': 'Paulo Coelho',\n",
      "             'promoted_content': None,\n",
      "             'query': '%22Paulo+Coelho%22',\n",
      "             'tweet_volume': 11744,\n",
      "             'url': 'http://twitter.com/search?q=%22Paulo+Coelho%22'},\n",
      "            {'name': 'Solange',\n",
      "             'promoted_content': None,\n",
      "             'query': 'Solange',\n",
      "             'tweet_volume': 18417,\n",
      "             'url': 'http://twitter.com/search?q=Solange'},\n",
      "            {'name': 'kcon',\n",
      "             'promoted_content': None,\n",
      "             'query': 'kcon',\n",
      "             'tweet_volume': 117308,\n",
      "             'url': 'http://twitter.com/search?q=kcon'},\n",
      "            {'name': 'PROUD OF OLIVIA',\n",
      "             'promoted_content': None,\n",
      "             'query': '%22PROUD+OF+OLIVIA%22',\n",
      "             'tweet_volume': None,\n",
      "             'url': 'http://twitter.com/search?q=%22PROUD+OF+OLIVIA%22'},\n",
      "            {'name': 'artemis',\n",
      "             'promoted_content': None,\n",
      "             'query': 'artemis',\n",
      "             'tweet_volume': 15761,\n",
      "             'url': 'http://twitter.com/search?q=artemis'},\n",
      "            {'name': 'lucas fonseca',\n",
      "             'promoted_content': None,\n",
      "             'query': '%22lucas+fonseca%22',\n",
      "             'tweet_volume': None,\n",
      "             'url': 'http://twitter.com/search?q=%22lucas+fonseca%22'},\n",
      "            {'name': 'Aline',\n",
      "             'promoted_content': None,\n",
      "             'query': 'Aline',\n",
      "             'tweet_volume': 27678,\n",
      "             'url': 'http://twitter.com/search?q=Aline'},\n",
      "            {'name': 'Luiz Adriano',\n",
      "             'promoted_content': None,\n",
      "             'query': '%22Luiz+Adriano%22',\n",
      "             'tweet_volume': None,\n",
      "             'url': 'http://twitter.com/search?q=%22Luiz+Adriano%22'},\n",
      "            {'name': 'Virgínia',\n",
      "             'promoted_content': None,\n",
      "             'query': 'Virg%C3%ADnia',\n",
      "             'tweet_volume': 57185,\n",
      "             'url': 'http://twitter.com/search?q=Virg%C3%ADnia'},\n",
      "            {'name': 'vamos fluxo',\n",
      "             'promoted_content': None,\n",
      "             'query': '%22vamos+fluxo%22',\n"
     ]
    },
    {
     "name": "stdout",
     "output_type": "stream",
     "text": [
      "             'tweet_volume': None,\n",
      "             'url': 'http://twitter.com/search?q=%22vamos+fluxo%22'},\n",
      "            {'name': 'Ana Paula',\n",
      "             'promoted_content': None,\n",
      "             'query': '%22Ana+Paula%22',\n",
      "             'tweet_volume': 10956,\n",
      "             'url': 'http://twitter.com/search?q=%22Ana+Paula%22'},\n",
      "            {'name': 'chico césar',\n",
      "             'promoted_content': None,\n",
      "             'query': '%22chico+c%C3%A9sar%22',\n",
      "             'tweet_volume': None,\n",
      "             'url': 'http://twitter.com/search?q=%22chico+c%C3%A9sar%22'},\n",
      "            {'name': 'Rodallega',\n",
      "             'promoted_content': None,\n",
      "             'query': 'Rodallega',\n",
      "             'tweet_volume': None,\n",
      "             'url': 'http://twitter.com/search?q=Rodallega'},\n",
      "            {'name': 'Khai',\n",
      "             'promoted_content': None,\n",
      "             'query': 'Khai',\n",
      "             'tweet_volume': 18609,\n",
      "             'url': 'http://twitter.com/search?q=Khai'}]}\n"
     ]
    }
   ],
   "source": [
    "pprint.pprint(collection.find_one())"
   ]
  },
  {
   "cell_type": "markdown",
   "id": "cb9398fb",
   "metadata": {},
   "source": [
    "## Funcionalidade 3: Visualizando os Dados\n",
    "\n",
    "1. Extrair as trends de um determinado pais. \n",
    "2. Tratar dos campos NaN.\n",
    "2. Usar a biblioteca pandas para criar um Dataframe dos *trends*\n",
    "3. Usar a biblioteca pandas para visualizar os dados em um gráfico\n",
    "4. Usar a biblioteca matplot para visualizar os dados em um gráfico \n",
    "\n",
    "Fontes: [Analise Exploratoria - Projeto DIO](https://github.com/LeiteSS/analise_exploratoria); [Plot With Pandas: Python Data Visualization for Beginners](https://realpython.com/pandas-plot-python/); [Return Json List And Python Requests Library](https://stackoverflow.com/questions/51458509/return-json-list-and-python-requests-library); [How to Increase Image Size of Pandas Dataframe plot in Jupyter Notebook](https://stackoverflow.com/questions/51174691/how-to-increase-image-size-of-pandas-dataframe-plot-in-jupyter-notebook) "
   ]
  },
  {
   "cell_type": "markdown",
   "id": "208504fc",
   "metadata": {},
   "source": [
    "### Extrai as Trends"
   ]
  },
  {
   "cell_type": "code",
   "execution_count": 9,
   "id": "e0929601",
   "metadata": {},
   "outputs": [],
   "source": [
    "trends = []\n",
    "for item in top_trends:\n",
    "    trends = item['trends']"
   ]
  },
  {
   "cell_type": "markdown",
   "id": "3f92fec1",
   "metadata": {},
   "source": [
    "### Dataframe com as Trends"
   ]
  },
  {
   "cell_type": "code",
   "execution_count": 10,
   "id": "82b35181",
   "metadata": {},
   "outputs": [],
   "source": [
    "df = pd.DataFrame(trends)"
   ]
  },
  {
   "cell_type": "markdown",
   "id": "a458a26c",
   "metadata": {},
   "source": [
    "#### Comandos Importantes\n",
    "Deixei anexados aqui alguns comando que foram usados depois de ter convertido a lista em Dataframe.\n",
    "```py\n",
    "df.head() # retorna as primeiras 5 linhas (por padrão) de um dataframe\n",
    "\n",
    "df.shape # retorna a quantidade de linha e a quantidade de colunas de um dataframe\n",
    "\n",
    "df.dtypes # retorna o tipo de cada coluna\n",
    "```"
   ]
  },
  {
   "cell_type": "markdown",
   "id": "ae91afde",
   "metadata": {},
   "source": [
    "### Mudando os Nomes dos Campos"
   ]
  },
  {
   "cell_type": "code",
   "execution_count": 11,
   "id": "161318ca",
   "metadata": {},
   "outputs": [],
   "source": [
    "df_trends = df.rename(\n",
    "    columns={\n",
    "        'name': 'Nome', \n",
    "        'url': 'URI', \n",
    "        'promoted_content': 'Patrocinado', \n",
    "        'query': 'Hashtag', \n",
    "        'tweet_volume': 'Volume'\n",
    "    }\n",
    ")"
   ]
  },
  {
   "cell_type": "markdown",
   "id": "63e1754a",
   "metadata": {},
   "source": [
    "### Preenche os valores *Not A Number* com Zeros"
   ]
  },
  {
   "cell_type": "code",
   "execution_count": 12,
   "id": "fd5efb58",
   "metadata": {},
   "outputs": [],
   "source": [
    "df_trends[\"Volume\"].fillna(0, inplace=True)"
   ]
  },
  {
   "cell_type": "markdown",
   "id": "ea2149c8",
   "metadata": {},
   "source": [
    "### Agrupando os nomes com o volume de tweets\n",
    "Este projeto irá apresentar o volume de tweets usando uma determinado nome que uma determinada hashtag tem."
   ]
  },
  {
   "cell_type": "code",
   "execution_count": 13,
   "id": "d40309e2",
   "metadata": {},
   "outputs": [
    {
     "data": {
      "text/plain": [
       "Nome\n",
       "ios 15                293937\n",
       "mete                   32026\n",
       "pabllo                123845\n",
       "respect for dayane     44695\n",
       "zara                   42467\n",
       "Name: Volume, dtype: int64"
      ]
     },
     "execution_count": 13,
     "metadata": {},
     "output_type": "execute_result"
    }
   ],
   "source": [
    "# Qual o volume de tweet usando o nome como indicador\n",
    "df_trends.groupby(\"Nome\")[\"Volume\"].mean()"
   ]
  },
  {
   "cell_type": "markdown",
   "id": "7e2c6928",
   "metadata": {},
   "source": [
    "### Traçando os Gráficos"
   ]
  },
  {
   "cell_type": "code",
   "execution_count": 14,
   "id": "cbb392b0",
   "metadata": {},
   "outputs": [
    {
     "data": {
      "text/plain": [
       "Text(0.5, 1.0, 'Top Trendings do Twitter')"
      ]
     },
     "execution_count": 14,
     "metadata": {},
     "output_type": "execute_result"
    },
    {
     "data": {
      "image/png": "[encoded data removed]",
      "text/plain": [
       "<Figure size 720x360 with 1 Axes>"
      ]
     },
     "metadata": {
      "needs_background": "light"
     },
     "output_type": "display_data"
    }
   ],
   "source": [
    "# Volume acima de 0\n",
    "top = df_trends[df_trends[\"Volume\"] > 0].sort_values(\"Volume\")\n",
    "top.plot(x=\"Nome\", y=[\"Volume\"], kind=\"bar\", figsize=(10,5))\n",
    "plt.title('Top Trendings do Twitter')"
   ]
  },
  {
   "cell_type": "code",
   "execution_count": 22,
   "id": "909b28c4",
   "metadata": {},
   "outputs": [
    {
     "data": {
      "text/plain": [
       "(5, 5)"
      ]
     },
     "execution_count": 22,
     "metadata": {},
     "output_type": "execute_result"
    }
   ],
   "source": [
    "# Se ao rodar a proxima celula der erro é preciso ver o output dessa celular para alterar a linha x = np.linspace(0, 5, 5)\n",
    "df_trends.shape"
   ]
  },
  {
   "cell_type": "code",
   "execution_count": 23,
   "id": "48047436",
   "metadata": {},
   "outputs": [
    {
     "data": {
      "image/png": "[encoded data removed]",
      "text/plain": [
       "<Figure size 1080x648 with 1 Axes>"
      ]
     },
     "metadata": {
      "needs_background": "light"
     },
     "output_type": "display_data"
    }
   ],
   "source": [
    "x = np.linspace(0, 5, 5)\n",
    "fig, ax = plt.subplots(figsize=(15, 9))\n",
    "fig.subplots_adjust(bottom=0.15, left=0.2)\n",
    "plt.plot(x, df_trends[\"Volume\"], marker='o')\n",
    "plt.title('Top Trendings do Twitter', fontsize=14)\n",
    "plt.xlabel('Dados', fontsize=14)\n",
    "plt.ylabel('Volume', fontsize=14)\n",
    "plt.grid(True)\n",
    "plt.show()"
   ]
  },
  {
   "cell_type": "code",
   "execution_count": 16,
   "id": "55c86a21",
   "metadata": {},
   "outputs": [
    {
     "data": {
      "text/plain": [
       "<AxesSubplot:xlabel='Nome'>"
      ]
     },
     "execution_count": 16,
     "metadata": {},
     "output_type": "execute_result"
    },
    {
     "data": {
      "image/png": "[encoded data removed]",
      "text/plain": [
       "<Figure size 1080x648 with 1 Axes>"
      ]
     },
     "metadata": {
      "needs_background": "light"
     },
     "output_type": "display_data"
    }
   ],
   "source": [
    "top = df_trends[df_trends[\"Volume\"] > 0].sort_values(\"Volume\")\n",
    "top.plot(x=\"Nome\", y=\"Volume\", kind='line', figsize=(15,9))"
   ]
  },
  {
   "cell_type": "markdown",
   "id": "74f9ce49",
   "metadata": {},
   "source": [
    "## Funcionalidade 4: Análise de Sentimento\n",
    "1. Usar o tweepy para obter os tweets.\n",
    "2. Usar o textblob para analisar os tweets, afim de encontrar sentimentos.\n",
    "3. Usar a lista de trends obtida na funcionalidade três para servir como paramêtro na função que obtem os tweets."
   ]
  },
  {
   "cell_type": "markdown",
   "id": "a7d55825",
   "metadata": {},
   "source": [
    "### Twitter Client"
   ]
  },
  {
   "cell_type": "code",
   "execution_count": 17,
   "id": "29a876ec",
   "metadata": {},
   "outputs": [],
   "source": [
    "twitter_client = tc.TwitterClient(consumer_key, consumer_secret, access_token, access_token_secret)"
   ]
  },
  {
   "cell_type": "markdown",
   "id": "ad518660",
   "metadata": {},
   "source": [
    "### Análise Usando o Dataframe\n",
    "Para ser realizado a análise de sentimento nos tweets, o laço `for` e a função `iterrows()` do `Dataframe` permite percorrer as linhas do `Dataframe` e através disso, selecionar uma coluna, neste caso a coluna `Nome`, mas pode ser também a coluna `Hashtag` pois no `json` obtido da *request* feita na **Twitter Api** essa coluna se chamava `query`. Pois bem, todos os tweets pegos usando a `query` escolhida são guardadas em uma lista para serem analisadas usando a biblioteca Textblob, se há sentimentos positivos, neutros ou negativos. Descorberto, os sentimentos é feito o calculo para descobrir a porcentagem de tweets que esse sentimento possui.\n",
    "\n",
    "Além de claro, retornar os tweets ao final.\n",
    "\n",
    "Fontes: [Twitter Sentiment Analysis using Python](https://www.geeksforgeeks.org/twitter-sentiment-analysis-using-python/) e [How to iterate over rows in a DataFrame in Pandas](https://stackoverflow.com/questions/16476924/how-to-iterate-over-rows-in-a-dataframe-in-pandas)"
   ]
  },
  {
   "cell_type": "code",
   "execution_count": 18,
   "id": "1f9f281a",
   "metadata": {},
   "outputs": [
    {
     "name": "stdout",
     "output_type": "stream",
     "text": [
      "-----------------------------------------------------------------------------------------------------------------\n",
      "O que está sendo comentado no top trendings: ios 15\n",
      "Porcentagem de tweets positivos: 8.571428571428571 %\n",
      "Porcentagem de tweets negativos: 8.571428571428571 %\n",
      "Porcentagem de tweets neutros: 82.85714285714286 %         \n",
      "\n",
      "\n",
      "Tweets positivos:\n",
      "RT @malonso: iOS 15 introduces Drag and Drop between apps to the iPhone. Make sure to give it a try! #iOS15 https://t.co/YzXdv3ENHJ\n",
      "RT @JustBuen: I don't know why they included this feature to iOS 15 but I'm glad they did. Pang senti moments #iOS15 https://t.co/Di3zDkBq9b\n",
      "RT @TiredBlexican: You can set rain as a background sound with IOS 15 I love this update https://t.co/QxMI6K68cz\n",
      "RT @steeztalksrap: the new ios 15 update lets you play background sounds while listening to music https://t.co/Vh4NXwJoJD\n",
      "ip 7 masih compatible ga sih buat ios 15 hahaha\n",
      "RT @oturbisoluklann: The only thing i like about iOS 15 is that its new upgraded map app. Everything looks so cool! It's almost like i'm pl…\n",
      "\n",
      "\n",
      "Tweets negativos:\n",
      "RT @jsmith189: iOS 15 comes out tomorrow. I’ve been using it a few months, and people seemed to like the last one, so here are some tips an…\n",
      "Anyone else’s phone acting slow after installing IOS 15?\n",
      "RT @Tbone7219: By far the worst feature on iOS 15 is the ability to still answer incoming calls.\n",
      "RT @BrightMinho: ฟีเจอร์ Portrait Video ใน iOS 15\n",
      "ไปกดเปิดตรง Control Center เลย\n",
      "จะทำให้วิดีโอทำหน้าชัดหลังเบลอได้ !\n",
      "\n",
      "ไม่ว่าจะเป็น FaceTime…\n",
      "iOS 15 SHARP!!\n",
      "I updated my iPhone &amp; iPad to iOS 15 and both seem to be heating up &amp; draining battery faster than usual. Wonder if… https://t.co/JKlRv7RGvZ\n",
      "---------------------------------------------------------------------------------------------------------------------\n",
      "-----------------------------------------------------------------------------------------------------------------\n",
      "O que está sendo comentado no top trendings: pabllo\n",
      "Porcentagem de tweets positivos: 4.477611940298507 %\n",
      "Porcentagem de tweets negativos: 1.492537313432836 %\n",
      "Porcentagem de tweets neutros: 94.02985074626865 %         \n",
      "\n",
      "\n",
      "Tweets positivos:\n",
      "Ontem eu corri do trevo até o assentamento. a meta era o parque, mas ok.\n",
      "\n",
      "Resultado: não foi só a Pabllo que passou mal ontem\n",
      "RT @JOYZlNHA: me espanta essa conta ser realmente um portal pra pabllo no japão e não a palhaçada de um gay brasileiro\n",
      "Ao serem questionados sobre uma palavra que define o evento, Rafa resume o #PremiosMTVMIAW como \"Único\" e Pabllo como \"Griteiro\" hahahaha\n",
      "\n",
      "\n",
      "Tweets negativos:\n",
      "Minha playlist de melhores músicas de 2021 tem Pabllo Vittar no top 10 OMG\n",
      "---------------------------------------------------------------------------------------------------------------------\n",
      "-----------------------------------------------------------------------------------------------------------------\n",
      "O que está sendo comentado no top trendings: zara\n",
      "Porcentagem de tweets positivos: 7.142857142857143 %\n",
      "Porcentagem de tweets negativos: 23.214285714285715 %\n",
      "Porcentagem de tweets neutros: 69.64285714285714 %         \n",
      "\n",
      "\n",
      "Tweets positivos:\n",
      "People r trolling Tappu n Babitaji 4 thier personal equation. Tappu in real life bachha nahi hai 24 years old ladka… https://t.co/Png6VUp2Vz\n",
      "@Zeddeee Afternoon Zara thanks for the points xx\n",
      "@Zara_sbx You are sweet\n",
      "Im not ready for break up ok\n",
      "#çokseverken\n",
      "#AdaMasalı\n",
      "\n",
      "\n",
      "Tweets negativos:\n",
      "RT @BkJ_0: #𝕂𝟚_𝔾 🔝\n",
      "🔝100%Active Team🔝\n",
      "@Lam_e5 🍷\n",
      " @In_im7👈\n",
      "@_saim8👈\n",
      "@Ao5c8\n",
      "🆗🆗🍷\n",
      "@d9ish\n",
      "@pink_y4👈\n",
      "@Smpti0 \n",
      "@BkJ_0\n",
      "@1sareer\n",
      "@H_fb_9\n",
      "@_jan00\n",
      "@_SH…\n",
      "RT @ANP_66: #𝕂𝟚_𝔾 🔝\n",
      "🔝100%Active Team🔝\n",
      "@Lam_e5 🍷\n",
      " @In_im7👈\n",
      "@_saim8👈\n",
      "@Ao5c8\n",
      "🆗🆗🍷\n",
      "@d9ish\n",
      "@pink_y4👈\n",
      "@Smpti0 \n",
      "@BkJ_0\n",
      "@1sareer\n",
      "@H_fb_9\n",
      "@_jan00\n",
      "@_S…\n",
      "RT @pink_y4: #𝕂𝟚_𝔾 🔝\n",
      "🔝100%Active Team🔝\n",
      "@Lam_e5 🍷\n",
      " @In_im7👈\n",
      "@_saim8👈\n",
      "@Ao5c8\n",
      "🆗🆗🍷\n",
      "@d9ish\n",
      "@pink_y4👈\n",
      "@Smpti0 \n",
      "@BkJ_0\n",
      "@1sareer\n",
      "@H_fb_9\n",
      "@_jan00\n",
      "@_…\n",
      "#𝕂𝟚_𝔾 🔝\n",
      "🔝100%Active Team🔝\n",
      "@Lam_e5 🍷\n",
      " @In_im7👈\n",
      "@_saim8👈\n",
      "@Ao5c8\n",
      "🆗🆗🍷\n",
      "@d9ish\n",
      "@pink_y4👈\n",
      "@Smpti0 \n",
      "@BkJ_0\n",
      "@1sareer\n",
      "@H_fb_9… https://t.co/uSikcioay8\n",
      "RT @Smpti0: #𝕂𝟚_𝔾 🔝\n",
      "🔝100%Active Team🔝\n",
      "@Lam_e5 🍷\n",
      " @In_im7\n",
      "@_saim8\n",
      "@d9ish \n",
      "@Ao5c8\n",
      "🆗🆗🍷\n",
      "@pink_y4\n",
      "@Smpti0 \n",
      "@BkJ_0\n",
      "@1sareer\n",
      "@H_fb_9\n",
      "@_jan00\n",
      "@_SH5…\n",
      "RT @QaziFarhanoffi1: 🔝100%Active Team🔝\n",
      "@Lam_e5 🍷\n",
      " @In_im7👈\n",
      "@_saim8👈\n",
      "@Ao5c8\n",
      "🆗🆗🍷\n",
      "@d9ish\n",
      "@pink_y4👈\n",
      "@Smpti0 \n",
      "@BkJ_0\n",
      "@1sareer\n",
      "@H_fb_9\n",
      "@_jan00\n",
      "@_…\n",
      "#𝕂𝟚_𝔾 🔝\n",
      "🔝100%Active Team🔝\n",
      "@Lam_e5 🍷\n",
      " @In_im7👈\n",
      "@_saim8👈\n",
      "@Ao5c8\n",
      "🆗🆗🍷\n",
      "@d9ish\n",
      "@pink_y4👈\n",
      "@Smpti0 \n",
      "@BkJ_0\n",
      "@1sareer\n",
      "@H_fb_9… https://t.co/mO0yViClI2\n",
      "RT @1sareer: #𝕂𝟚_𝔾 🔝\n",
      "🔝100%Active Team🔝\n",
      "@Lam_e5 🍷\n",
      " @In_im7👈\n",
      "@_saim8👈\n",
      "@Ao5c8\n",
      "🆗🆗🍷\n",
      "@d9ish\n",
      "@pink_y4👈\n",
      "@Smpti0 \n",
      "@BkJ_0\n",
      "@1sareer\n",
      "@H_fb_9\n",
      "@_jan00\n",
      "@_…\n",
      "RT @_pkg1: #𝕂𝟚_𝔾 🔝\n",
      "🔝100%Active Team🔝\n",
      "@Lam_e5 🍷\n",
      " @In_im7👈\n",
      "@_saim8👈\n",
      "@Ao5c8\n",
      "🆗🆗🍷\n",
      "@d9ish\n",
      "@pink_y4👈\n",
      "@Smpti0 \n",
      "@BkJ_0\n",
      "@1sareer\n",
      "@H_fb_9\n",
      "@_jan00\n",
      "@_SH…\n",
      "RT @A_g4q: #𝕂𝟚_𝔾 🔝\n",
      "🔝100%Active Team🔝\n",
      "@Lam_e5 🍷\n",
      " @In_im7👈\n",
      "@_saim8👈\n",
      "@Ao5c8\n",
      "🆗🆗🍷\n",
      "@d9ish\n",
      "@pink_y4👈\n",
      "@Smpti0 \n",
      "@BkJ_0\n",
      "@1sareer\n",
      "@H_fb_9\n",
      "@_jan00\n",
      "@_SH…\n",
      "---------------------------------------------------------------------------------------------------------------------\n",
      "-----------------------------------------------------------------------------------------------------------------\n",
      "O que está sendo comentado no top trendings: respect for dayane\n",
      "Porcentagem de tweets positivos: 3.409090909090909 %\n",
      "Porcentagem de tweets negativos: 1.1363636363636365 %\n",
      "Porcentagem de tweets neutros: 95.45454545454545 %         \n",
      "\n",
      "\n",
      "Tweets positivos:\n",
      "We want an answer about the abuse case and the more than 500 reports made regarding harassment at the Farm… https://t.co/n69iXXte0z\n",
      "RT @hakseng04: We want an answer about the abuse case and the more than 500 reports made regarding harassment at the Farm @mpsp_oficial\n",
      "You…\n",
      "@mpsp_oficial We want an answer about the abuse case and the more than 500 reports made regarding harassment at the… https://t.co/gE6fLwphVv\n",
      "\n",
      "\n",
      "Tweets negativos:\n",
      "This predator had worn the entire world out! His behavior is despicable, content need to play the victim is a class… https://t.co/iPJzff2QcE\n",
      "---------------------------------------------------------------------------------------------------------------------\n",
      "-----------------------------------------------------------------------------------------------------------------\n",
      "O que está sendo comentado no top trendings: mete\n",
      "Porcentagem de tweets positivos: 4.2105263157894735 %\n",
      "Porcentagem de tweets negativos: 1.0526315789473684 %\n",
      "Porcentagem de tweets neutros: 94.73684210526316 %         \n",
      "\n",
      "\n",
      "Tweets positivos:\n",
      "RT @teamturkiye2020: 🇹🇷🏹Okçularımız Sahnede!\n",
      "\n",
      "Aralarında olimpiyat şampiyonu Mete Gazoz’un da bulunduğu milli okçularımız, dünya şampiyonas…\n",
      "RT @idriskardas: #Roketsan’dan ismini Mete Gazoz’dan alan #METE.\n",
      "\n",
      "Ok gibi nişan alıp atış atan bir mekanizması var. Keskin nişancı mevziler…\n",
      "A MAIOR DESIGUALDADE SOCIAL DA HISTÓRIA E ELE METE ESSA?\n",
      "RT @flogismondi: Hace 20 años esta usando los impuestos de los asuncenos, jamás presentó un proyecto pero mete a full gente. \n",
      "\n",
      "En serio no…\n",
      "\n",
      "\n",
      "Tweets negativos:\n",
      "RT @brookeira: Carola mete 24h de set no Sunwaves e vocês achando que 3h é long set! 🤌🏼\n",
      "---------------------------------------------------------------------------------------------------------------------\n"
     ]
    }
   ],
   "source": [
    "for index, row in df_trends.iterrows():\n",
    "    print(\"-----------------------------------------------------------------------------------------------------------------\")\n",
    "    print(\"O que está sendo comentado no top trendings: \" + row['Nome'])\n",
    "    tweets = twitter_client.get_tweets(query = row['Hashtag'], count = 200)\n",
    "    \n",
    "    positive_tweets = [tweet for tweet in tweets if tweet['sentiment'] == 'positivo']\n",
    "    \n",
    "    print(\"Porcentagem de tweets positivos: {} %\".format(100*len(positive_tweets)/len(tweets)))\n",
    "    \n",
    "    negatives_tweets = [tweet for tweet in tweets if tweet['sentiment'] == 'negativo']\n",
    "    \n",
    "    print(\"Porcentagem de tweets negativos: {} %\".format(100*len(negatives_tweets)/len(tweets)))\n",
    "    \n",
    "    print(\"Porcentagem de tweets neutros: {} % \\\n",
    "        \".format(100*(len(tweets) -(len( negatives_tweets )+len( positive_tweets)))/len(tweets)))\n",
    "    \n",
    "    print(\"\\n\\nTweets positivos:\")\n",
    "    for tweet in positive_tweets[:10]:\n",
    "        print(tweet['text'])\n",
    "        \n",
    "    print(\"\\n\\nTweets negativos:\")\n",
    "    for tweet in negatives_tweets[:10]:\n",
    "        print(tweet['text'])\n",
    "    print(\"---------------------------------------------------------------------------------------------------------------------\")"
   ]
  },
  {
   "cell_type": "markdown",
   "id": "68fa3869",
   "metadata": {},
   "source": [
    "## Aplicação Principal\n",
    "\n",
    "Para rodar a aplicação principal use o comando: `py main.py`. No github é possivel conferir o processo de desenvolvimento através das *branches*. \n",
    "\n",
    "~**silas**"
   ]
  }
 ],
 "metadata": {
  "interpreter": {
   "hash": "ef8c743edf7ecdc71e682339a156d794c623ddf35210a0eb8fff6fdaff6b6898"
  },
  "kernelspec": {
   "display_name": "Python 3",
   "language": "python",
   "name": "python3"
  },
  "language_info": {
   "codemirror_mode": {
    "name": "ipython",
    "version": 3
   },
   "file_extension": ".py",
   "mimetype": "text/x-python",
   "name": "python",
   "nbconvert_exporter": "python",
   "pygments_lexer": "ipython3",
   "version": "3.8.8"
  }
 },
 "nbformat": 4,
 "nbformat_minor": 5
}
